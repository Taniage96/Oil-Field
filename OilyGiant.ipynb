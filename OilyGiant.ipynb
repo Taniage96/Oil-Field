{
 "cells": [
  {
   "cell_type": "markdown",
   "metadata": {},
   "source": [
    "# Project: OilyGiant oil extraction company"
   ]
  },
  {
   "cell_type": "markdown",
   "metadata": {},
   "source": [
    "## Introduction\n",
    "OilyGiant, a leading oil extraction company, is searching for the best locations to drill 200 new wells. To achieve this goal, a comprehensive analysis of geological data from three different regions will be carried out, using machine learning and risk analysis techniques.\n",
    "The purpose of this project is to develop a predictive model that allows estimating the volume of oil reserves in new wells, in order to select the regions with the greatest potential for profitability. Through the application of linear regression and bootstrapping techniques, the risks associated with each region will be evaluated and the option that maximizes the expected benefit will be selected, while minimizing the probability of losses.\n",
    "The results of this study will provide OilyGiant with a solid basis for making strategic investment decisions, optimizing resource allocation and maximizing return on investment."
   ]
  },
  {
   "cell_type": "markdown",
   "metadata": {},
   "source": [
    "## Import of libraries"
   ]
  },
  {
   "cell_type": "code",
   "execution_count": 1,
   "metadata": {},
   "outputs": [],
   "source": [
    "import pandas as pd\n",
    "import numpy as np\n",
    "from sklearn.model_selection import train_test_split\n",
    "from sklearn.ensemble import RandomForestRegressor\n",
    "from sklearn.metrics import mean_absolute_error\n",
    "from sklearn.metrics import mean_squared_error\n",
    "import matplotlib.pyplot as plt\n",
    "from sklearn.tree import DecisionTreeClassifier\n",
    "from sklearn.tree import DecisionTreeRegressor\n",
    "from sklearn.ensemble import RandomForestClassifier\n",
    "from sklearn.metrics import accuracy_score\n",
    "from sklearn.metrics import confusion_matrix\n",
    "from sklearn.utils import shuffle\n",
    "from sklearn.linear_model import LinearRegression\n",
    "from sklearn.metrics import f1_score\n",
    "from sklearn.metrics import precision_score, recall_score\n",
    "from sklearn.metrics import roc_auc_score\n",
    "import statistics\n",
    "import plotly.express as px\n",
    "from sklearn.preprocessing import StandardScaler"
   ]
  },
  {
   "cell_type": "markdown",
   "metadata": {},
   "source": [
    "## Data loading and browsing"
   ]
  },
  {
   "cell_type": "code",
   "execution_count": 2,
   "metadata": {},
   "outputs": [],
   "source": [
    "#Load the data files\n",
    "df1 = pd.read_csv('geo_data_0.csv')\n",
    "df2 = pd.read_csv('geo_data_1.csv')\n",
    "df3 = pd.read_csv('geo_data_2.csv')"
   ]
  },
  {
   "cell_type": "markdown",
   "metadata": {},
   "source": [
    "<div style=\"background-color: #006400 ;\">\n",
    "  For DF1\n",
    "</div>\n"
   ]
  },
  {
   "cell_type": "code",
   "execution_count": 3,
   "metadata": {},
   "outputs": [
    {
     "data": {
      "text/html": [
       "<div>\n",
       "<style scoped>\n",
       "    .dataframe tbody tr th:only-of-type {\n",
       "        vertical-align: middle;\n",
       "    }\n",
       "\n",
       "    .dataframe tbody tr th {\n",
       "        vertical-align: top;\n",
       "    }\n",
       "\n",
       "    .dataframe thead th {\n",
       "        text-align: right;\n",
       "    }\n",
       "</style>\n",
       "<table border=\"1\" class=\"dataframe\">\n",
       "  <thead>\n",
       "    <tr style=\"text-align: right;\">\n",
       "      <th></th>\n",
       "      <th>id</th>\n",
       "      <th>f0</th>\n",
       "      <th>f1</th>\n",
       "      <th>f2</th>\n",
       "      <th>product</th>\n",
       "    </tr>\n",
       "  </thead>\n",
       "  <tbody>\n",
       "    <tr>\n",
       "      <th>0</th>\n",
       "      <td>txEyH</td>\n",
       "      <td>0.705745</td>\n",
       "      <td>-0.497823</td>\n",
       "      <td>1.221170</td>\n",
       "      <td>105.280062</td>\n",
       "    </tr>\n",
       "    <tr>\n",
       "      <th>1</th>\n",
       "      <td>2acmU</td>\n",
       "      <td>1.334711</td>\n",
       "      <td>-0.340164</td>\n",
       "      <td>4.365080</td>\n",
       "      <td>73.037750</td>\n",
       "    </tr>\n",
       "    <tr>\n",
       "      <th>2</th>\n",
       "      <td>409Wp</td>\n",
       "      <td>1.022732</td>\n",
       "      <td>0.151990</td>\n",
       "      <td>1.419926</td>\n",
       "      <td>85.265647</td>\n",
       "    </tr>\n",
       "    <tr>\n",
       "      <th>3</th>\n",
       "      <td>iJLyR</td>\n",
       "      <td>-0.032172</td>\n",
       "      <td>0.139033</td>\n",
       "      <td>2.978566</td>\n",
       "      <td>168.620776</td>\n",
       "    </tr>\n",
       "    <tr>\n",
       "      <th>4</th>\n",
       "      <td>Xdl7t</td>\n",
       "      <td>1.988431</td>\n",
       "      <td>0.155413</td>\n",
       "      <td>4.751769</td>\n",
       "      <td>154.036647</td>\n",
       "    </tr>\n",
       "  </tbody>\n",
       "</table>\n",
       "</div>"
      ],
      "text/plain": [
       "      id        f0        f1        f2     product\n",
       "0  txEyH  0.705745 -0.497823  1.221170  105.280062\n",
       "1  2acmU  1.334711 -0.340164  4.365080   73.037750\n",
       "2  409Wp  1.022732  0.151990  1.419926   85.265647\n",
       "3  iJLyR -0.032172  0.139033  2.978566  168.620776\n",
       "4  Xdl7t  1.988431  0.155413  4.751769  154.036647"
      ]
     },
     "execution_count": 3,
     "metadata": {},
     "output_type": "execute_result"
    }
   ],
   "source": [
    "#Print the first 5 rows of the Dataframe\n",
    "df1.head()"
   ]
  },
  {
   "cell_type": "code",
   "execution_count": 4,
   "metadata": {},
   "outputs": [
    {
     "data": {
      "text/html": [
       "<div>\n",
       "<style scoped>\n",
       "    .dataframe tbody tr th:only-of-type {\n",
       "        vertical-align: middle;\n",
       "    }\n",
       "\n",
       "    .dataframe tbody tr th {\n",
       "        vertical-align: top;\n",
       "    }\n",
       "\n",
       "    .dataframe thead th {\n",
       "        text-align: right;\n",
       "    }\n",
       "</style>\n",
       "<table border=\"1\" class=\"dataframe\">\n",
       "  <thead>\n",
       "    <tr style=\"text-align: right;\">\n",
       "      <th></th>\n",
       "      <th>f0</th>\n",
       "      <th>f1</th>\n",
       "      <th>f2</th>\n",
       "      <th>product</th>\n",
       "    </tr>\n",
       "  </thead>\n",
       "  <tbody>\n",
       "    <tr>\n",
       "      <th>count</th>\n",
       "      <td>100000.000000</td>\n",
       "      <td>100000.000000</td>\n",
       "      <td>100000.000000</td>\n",
       "      <td>100000.000000</td>\n",
       "    </tr>\n",
       "    <tr>\n",
       "      <th>mean</th>\n",
       "      <td>0.500419</td>\n",
       "      <td>0.250143</td>\n",
       "      <td>2.502647</td>\n",
       "      <td>92.500000</td>\n",
       "    </tr>\n",
       "    <tr>\n",
       "      <th>std</th>\n",
       "      <td>0.871832</td>\n",
       "      <td>0.504433</td>\n",
       "      <td>3.248248</td>\n",
       "      <td>44.288691</td>\n",
       "    </tr>\n",
       "    <tr>\n",
       "      <th>min</th>\n",
       "      <td>-1.408605</td>\n",
       "      <td>-0.848218</td>\n",
       "      <td>-12.088328</td>\n",
       "      <td>0.000000</td>\n",
       "    </tr>\n",
       "    <tr>\n",
       "      <th>25%</th>\n",
       "      <td>-0.072580</td>\n",
       "      <td>-0.200881</td>\n",
       "      <td>0.287748</td>\n",
       "      <td>56.497507</td>\n",
       "    </tr>\n",
       "    <tr>\n",
       "      <th>50%</th>\n",
       "      <td>0.502360</td>\n",
       "      <td>0.250252</td>\n",
       "      <td>2.515969</td>\n",
       "      <td>91.849972</td>\n",
       "    </tr>\n",
       "    <tr>\n",
       "      <th>75%</th>\n",
       "      <td>1.073581</td>\n",
       "      <td>0.700646</td>\n",
       "      <td>4.715088</td>\n",
       "      <td>128.564089</td>\n",
       "    </tr>\n",
       "    <tr>\n",
       "      <th>max</th>\n",
       "      <td>2.362331</td>\n",
       "      <td>1.343769</td>\n",
       "      <td>16.003790</td>\n",
       "      <td>185.364347</td>\n",
       "    </tr>\n",
       "  </tbody>\n",
       "</table>\n",
       "</div>"
      ],
      "text/plain": [
       "                  f0             f1             f2        product\n",
       "count  100000.000000  100000.000000  100000.000000  100000.000000\n",
       "mean        0.500419       0.250143       2.502647      92.500000\n",
       "std         0.871832       0.504433       3.248248      44.288691\n",
       "min        -1.408605      -0.848218     -12.088328       0.000000\n",
       "25%        -0.072580      -0.200881       0.287748      56.497507\n",
       "50%         0.502360       0.250252       2.515969      91.849972\n",
       "75%         1.073581       0.700646       4.715088     128.564089\n",
       "max         2.362331       1.343769      16.003790     185.364347"
      ]
     },
     "execution_count": 4,
     "metadata": {},
     "output_type": "execute_result"
    }
   ],
   "source": [
    "#generate descriptive statistics for the numerical columns in the DataFrame \n",
    "df1.describe()"
   ]
  },
  {
   "cell_type": "code",
   "execution_count": 5,
   "metadata": {},
   "outputs": [
    {
     "name": "stdout",
     "output_type": "stream",
     "text": [
      "<class 'pandas.core.frame.DataFrame'>\n",
      "RangeIndex: 100000 entries, 0 to 99999\n",
      "Data columns (total 5 columns):\n",
      " #   Column   Non-Null Count   Dtype  \n",
      "---  ------   --------------   -----  \n",
      " 0   id       100000 non-null  object \n",
      " 1   f0       100000 non-null  float64\n",
      " 2   f1       100000 non-null  float64\n",
      " 3   f2       100000 non-null  float64\n",
      " 4   product  100000 non-null  float64\n",
      "dtypes: float64(4), object(1)\n",
      "memory usage: 3.8+ MB\n"
     ]
    }
   ],
   "source": [
    "#Analyze general information\n",
    "df1.info()"
   ]
  },
  {
   "cell_type": "code",
   "execution_count": 6,
   "metadata": {},
   "outputs": [
    {
     "data": {
      "text/plain": [
       "id         0\n",
       "f0         0\n",
       "f1         0\n",
       "f2         0\n",
       "product    0\n",
       "dtype: int64"
      ]
     },
     "execution_count": 6,
     "metadata": {},
     "output_type": "execute_result"
    }
   ],
   "source": [
    "# Count the number of missing values (NaN) in each column of the DataFrame 'df1'\n",
    "df1.isnull().sum()"
   ]
  },
  {
   "cell_type": "code",
   "execution_count": 7,
   "metadata": {},
   "outputs": [
    {
     "data": {
      "text/plain": [
       "0"
      ]
     },
     "execution_count": 7,
     "metadata": {},
     "output_type": "execute_result"
    }
   ],
   "source": [
    "# Check for duplicate rows in the DataFrame 'df1'\n",
    "df1.duplicated().sum()"
   ]
  },
  {
   "cell_type": "code",
   "execution_count": 8,
   "metadata": {},
   "outputs": [
    {
     "data": {
      "image/png": "[encoded data removed]",
      "text/plain": [
       "<Figure size 640x480 with 1 Axes>"
      ]
     },
     "metadata": {},
     "output_type": "display_data"
    }
   ],
   "source": [
    "# Create histograms for each feature in df1\n",
    "plt.hist(df1['f0'], alpha=0.5, label='f0')  # Histogram for feature 'f0' with 50% transparency and label\n",
    "plt.hist(df1['f1'], alpha=0.5, label='f1')  # Histogram for feature 'f1' with 50% transparency and label\n",
    "plt.hist(df1['f2'], alpha=0.5, label='f2')  # Histogram for feature 'f2' with 50% transparency and label\n",
    "plt.hist(df1['product'], alpha=0.5, label='Product')  # Histogram for feature 'product' with 50% transparency and label\n",
    "\n",
    "# Set plot title and label for x-axis\n",
    "plt.title('Histogram of the Data')  # Descriptive title for the plot\n",
    "plt.xlabel('Barrels')  # Label for the x-axis\n",
    "\n",
    "# Add legend to differentiate between histograms\n",
    "plt.legend()  # Add legend to identify each histogram\n",
    "\n",
    "# Display the plot\n",
    "plt.show()"
   ]
  },
  {
   "cell_type": "markdown",
   "metadata": {},
   "source": [
    "<div style=\"background-color: #006400;\">\n",
    "  For DF2\n",
    "</div>\n",
    "\n"
   ]
  },
  {
   "cell_type": "code",
   "execution_count": 9,
   "metadata": {},
   "outputs": [
    {
     "data": {
      "text/html": [
       "<div>\n",
       "<style scoped>\n",
       "    .dataframe tbody tr th:only-of-type {\n",
       "        vertical-align: middle;\n",
       "    }\n",
       "\n",
       "    .dataframe tbody tr th {\n",
       "        vertical-align: top;\n",
       "    }\n",
       "\n",
       "    .dataframe thead th {\n",
       "        text-align: right;\n",
       "    }\n",
       "</style>\n",
       "<table border=\"1\" class=\"dataframe\">\n",
       "  <thead>\n",
       "    <tr style=\"text-align: right;\">\n",
       "      <th></th>\n",
       "      <th>id</th>\n",
       "      <th>f0</th>\n",
       "      <th>f1</th>\n",
       "      <th>f2</th>\n",
       "      <th>product</th>\n",
       "    </tr>\n",
       "  </thead>\n",
       "  <tbody>\n",
       "    <tr>\n",
       "      <th>0</th>\n",
       "      <td>kBEdx</td>\n",
       "      <td>-15.001348</td>\n",
       "      <td>-8.276000</td>\n",
       "      <td>-0.005876</td>\n",
       "      <td>3.179103</td>\n",
       "    </tr>\n",
       "    <tr>\n",
       "      <th>1</th>\n",
       "      <td>62mP7</td>\n",
       "      <td>14.272088</td>\n",
       "      <td>-3.475083</td>\n",
       "      <td>0.999183</td>\n",
       "      <td>26.953261</td>\n",
       "    </tr>\n",
       "    <tr>\n",
       "      <th>2</th>\n",
       "      <td>vyE1P</td>\n",
       "      <td>6.263187</td>\n",
       "      <td>-5.948386</td>\n",
       "      <td>5.001160</td>\n",
       "      <td>134.766305</td>\n",
       "    </tr>\n",
       "    <tr>\n",
       "      <th>3</th>\n",
       "      <td>KcrkZ</td>\n",
       "      <td>-13.081196</td>\n",
       "      <td>-11.506057</td>\n",
       "      <td>4.999415</td>\n",
       "      <td>137.945408</td>\n",
       "    </tr>\n",
       "    <tr>\n",
       "      <th>4</th>\n",
       "      <td>AHL4O</td>\n",
       "      <td>12.702195</td>\n",
       "      <td>-8.147433</td>\n",
       "      <td>5.004363</td>\n",
       "      <td>134.766305</td>\n",
       "    </tr>\n",
       "  </tbody>\n",
       "</table>\n",
       "</div>"
      ],
      "text/plain": [
       "      id         f0         f1        f2     product\n",
       "0  kBEdx -15.001348  -8.276000 -0.005876    3.179103\n",
       "1  62mP7  14.272088  -3.475083  0.999183   26.953261\n",
       "2  vyE1P   6.263187  -5.948386  5.001160  134.766305\n",
       "3  KcrkZ -13.081196 -11.506057  4.999415  137.945408\n",
       "4  AHL4O  12.702195  -8.147433  5.004363  134.766305"
      ]
     },
     "execution_count": 9,
     "metadata": {},
     "output_type": "execute_result"
    }
   ],
   "source": [
    "#Print the first 5 rows of the Dataframe\n",
    "df2.head()"
   ]
  },
  {
   "cell_type": "code",
   "execution_count": 10,
   "metadata": {},
   "outputs": [
    {
     "data": {
      "text/html": [
       "<div>\n",
       "<style scoped>\n",
       "    .dataframe tbody tr th:only-of-type {\n",
       "        vertical-align: middle;\n",
       "    }\n",
       "\n",
       "    .dataframe tbody tr th {\n",
       "        vertical-align: top;\n",
       "    }\n",
       "\n",
       "    .dataframe thead th {\n",
       "        text-align: right;\n",
       "    }\n",
       "</style>\n",
       "<table border=\"1\" class=\"dataframe\">\n",
       "  <thead>\n",
       "    <tr style=\"text-align: right;\">\n",
       "      <th></th>\n",
       "      <th>f0</th>\n",
       "      <th>f1</th>\n",
       "      <th>f2</th>\n",
       "      <th>product</th>\n",
       "    </tr>\n",
       "  </thead>\n",
       "  <tbody>\n",
       "    <tr>\n",
       "      <th>count</th>\n",
       "      <td>100000.000000</td>\n",
       "      <td>100000.000000</td>\n",
       "      <td>100000.000000</td>\n",
       "      <td>100000.000000</td>\n",
       "    </tr>\n",
       "    <tr>\n",
       "      <th>mean</th>\n",
       "      <td>1.141296</td>\n",
       "      <td>-4.796579</td>\n",
       "      <td>2.494541</td>\n",
       "      <td>68.825000</td>\n",
       "    </tr>\n",
       "    <tr>\n",
       "      <th>std</th>\n",
       "      <td>8.965932</td>\n",
       "      <td>5.119872</td>\n",
       "      <td>1.703572</td>\n",
       "      <td>45.944423</td>\n",
       "    </tr>\n",
       "    <tr>\n",
       "      <th>min</th>\n",
       "      <td>-31.609576</td>\n",
       "      <td>-26.358598</td>\n",
       "      <td>-0.018144</td>\n",
       "      <td>0.000000</td>\n",
       "    </tr>\n",
       "    <tr>\n",
       "      <th>25%</th>\n",
       "      <td>-6.298551</td>\n",
       "      <td>-8.267985</td>\n",
       "      <td>1.000021</td>\n",
       "      <td>26.953261</td>\n",
       "    </tr>\n",
       "    <tr>\n",
       "      <th>50%</th>\n",
       "      <td>1.153055</td>\n",
       "      <td>-4.813172</td>\n",
       "      <td>2.011479</td>\n",
       "      <td>57.085625</td>\n",
       "    </tr>\n",
       "    <tr>\n",
       "      <th>75%</th>\n",
       "      <td>8.621015</td>\n",
       "      <td>-1.332816</td>\n",
       "      <td>3.999904</td>\n",
       "      <td>107.813044</td>\n",
       "    </tr>\n",
       "    <tr>\n",
       "      <th>max</th>\n",
       "      <td>29.421755</td>\n",
       "      <td>18.734063</td>\n",
       "      <td>5.019721</td>\n",
       "      <td>137.945408</td>\n",
       "    </tr>\n",
       "  </tbody>\n",
       "</table>\n",
       "</div>"
      ],
      "text/plain": [
       "                  f0             f1             f2        product\n",
       "count  100000.000000  100000.000000  100000.000000  100000.000000\n",
       "mean        1.141296      -4.796579       2.494541      68.825000\n",
       "std         8.965932       5.119872       1.703572      45.944423\n",
       "min       -31.609576     -26.358598      -0.018144       0.000000\n",
       "25%        -6.298551      -8.267985       1.000021      26.953261\n",
       "50%         1.153055      -4.813172       2.011479      57.085625\n",
       "75%         8.621015      -1.332816       3.999904     107.813044\n",
       "max        29.421755      18.734063       5.019721     137.945408"
      ]
     },
     "execution_count": 10,
     "metadata": {},
     "output_type": "execute_result"
    }
   ],
   "source": [
    "#generate descriptive statistics for the numerical columns in the DataFrame \n",
    "df2.describe()"
   ]
  },
  {
   "cell_type": "code",
   "execution_count": 11,
   "metadata": {},
   "outputs": [
    {
     "name": "stdout",
     "output_type": "stream",
     "text": [
      "<class 'pandas.core.frame.DataFrame'>\n",
      "RangeIndex: 100000 entries, 0 to 99999\n",
      "Data columns (total 5 columns):\n",
      " #   Column   Non-Null Count   Dtype  \n",
      "---  ------   --------------   -----  \n",
      " 0   id       100000 non-null  object \n",
      " 1   f0       100000 non-null  float64\n",
      " 2   f1       100000 non-null  float64\n",
      " 3   f2       100000 non-null  float64\n",
      " 4   product  100000 non-null  float64\n",
      "dtypes: float64(4), object(1)\n",
      "memory usage: 3.8+ MB\n"
     ]
    }
   ],
   "source": [
    "#Analyze general information\n",
    "df2.info()"
   ]
  },
  {
   "cell_type": "code",
   "execution_count": 12,
   "metadata": {},
   "outputs": [
    {
     "data": {
      "text/plain": [
       "id         0\n",
       "f0         0\n",
       "f1         0\n",
       "f2         0\n",
       "product    0\n",
       "dtype: int64"
      ]
     },
     "execution_count": 12,
     "metadata": {},
     "output_type": "execute_result"
    }
   ],
   "source": [
    "# Count the number of missing values (NaN) in each column of the DataFrame 'df2'\n",
    "df2.isnull().sum()"
   ]
  },
  {
   "cell_type": "code",
   "execution_count": 13,
   "metadata": {},
   "outputs": [
    {
     "data": {
      "text/plain": [
       "0"
      ]
     },
     "execution_count": 13,
     "metadata": {},
     "output_type": "execute_result"
    }
   ],
   "source": [
    "# Check for duplicate rows in the DataFrame 'df2'\n",
    "df2.duplicated().sum()"
   ]
  },
  {
   "cell_type": "code",
   "execution_count": 14,
   "metadata": {},
   "outputs": [
    {
     "data": {
      "image/png": "[encoded data removed]",
      "text/plain": [
       "<Figure size 640x480 with 1 Axes>"
      ]
     },
     "metadata": {},
     "output_type": "display_data"
    }
   ],
   "source": [
    "# Create histograms for each feature and the product column\n",
    "plt.hist(df2['f0'], alpha=0.5, label='f0')  # Histogram for feature f0 with 50% transparency\n",
    "plt.hist(df2['f1'], alpha=0.5, label='f1')  # Histogram for feature f1 with 50% transparency\n",
    "plt.hist(df2['f2'], alpha=0.5, label='f2')  # Histogram for feature f2 with 50% transparency\n",
    "plt.hist(df2['product'], alpha=0.5, label='Product')  # Histogram for product column with 50% transparency\n",
    "\n",
    "# Set plot title and label for x-axis\n",
    "plt.title('Histogram of the Data')  # Descriptive title for the plot\n",
    "plt.xlabel('Barrels')  # Label for the x-axis\n",
    "\n",
    "# Add legend to differentiate between histograms\n",
    "plt.legend()  # Legend to identify each histogram\n",
    "\n",
    "# Display the plot\n",
    "plt.show()"
   ]
  },
  {
   "cell_type": "markdown",
   "metadata": {},
   "source": [
    "<div style=\"background-color: #006400;\">\n",
    "  For DF3\n",
    "</div>"
   ]
  },
  {
   "cell_type": "code",
   "execution_count": 15,
   "metadata": {},
   "outputs": [
    {
     "data": {
      "text/html": [
       "<div>\n",
       "<style scoped>\n",
       "    .dataframe tbody tr th:only-of-type {\n",
       "        vertical-align: middle;\n",
       "    }\n",
       "\n",
       "    .dataframe tbody tr th {\n",
       "        vertical-align: top;\n",
       "    }\n",
       "\n",
       "    .dataframe thead th {\n",
       "        text-align: right;\n",
       "    }\n",
       "</style>\n",
       "<table border=\"1\" class=\"dataframe\">\n",
       "  <thead>\n",
       "    <tr style=\"text-align: right;\">\n",
       "      <th></th>\n",
       "      <th>id</th>\n",
       "      <th>f0</th>\n",
       "      <th>f1</th>\n",
       "      <th>f2</th>\n",
       "      <th>product</th>\n",
       "    </tr>\n",
       "  </thead>\n",
       "  <tbody>\n",
       "    <tr>\n",
       "      <th>0</th>\n",
       "      <td>fwXo0</td>\n",
       "      <td>-1.146987</td>\n",
       "      <td>0.963328</td>\n",
       "      <td>-0.828965</td>\n",
       "      <td>27.758673</td>\n",
       "    </tr>\n",
       "    <tr>\n",
       "      <th>1</th>\n",
       "      <td>WJtFt</td>\n",
       "      <td>0.262778</td>\n",
       "      <td>0.269839</td>\n",
       "      <td>-2.530187</td>\n",
       "      <td>56.069697</td>\n",
       "    </tr>\n",
       "    <tr>\n",
       "      <th>2</th>\n",
       "      <td>ovLUW</td>\n",
       "      <td>0.194587</td>\n",
       "      <td>0.289035</td>\n",
       "      <td>-5.586433</td>\n",
       "      <td>62.871910</td>\n",
       "    </tr>\n",
       "    <tr>\n",
       "      <th>3</th>\n",
       "      <td>q6cA6</td>\n",
       "      <td>2.236060</td>\n",
       "      <td>-0.553760</td>\n",
       "      <td>0.930038</td>\n",
       "      <td>114.572842</td>\n",
       "    </tr>\n",
       "    <tr>\n",
       "      <th>4</th>\n",
       "      <td>WPMUX</td>\n",
       "      <td>-0.515993</td>\n",
       "      <td>1.716266</td>\n",
       "      <td>5.899011</td>\n",
       "      <td>149.600746</td>\n",
       "    </tr>\n",
       "  </tbody>\n",
       "</table>\n",
       "</div>"
      ],
      "text/plain": [
       "      id        f0        f1        f2     product\n",
       "0  fwXo0 -1.146987  0.963328 -0.828965   27.758673\n",
       "1  WJtFt  0.262778  0.269839 -2.530187   56.069697\n",
       "2  ovLUW  0.194587  0.289035 -5.586433   62.871910\n",
       "3  q6cA6  2.236060 -0.553760  0.930038  114.572842\n",
       "4  WPMUX -0.515993  1.716266  5.899011  149.600746"
      ]
     },
     "execution_count": 15,
     "metadata": {},
     "output_type": "execute_result"
    }
   ],
   "source": [
    "#Print the first 5 rows of the Dataframe\n",
    "df3.head()"
   ]
  },
  {
   "cell_type": "code",
   "execution_count": 16,
   "metadata": {},
   "outputs": [
    {
     "data": {
      "text/html": [
       "<div>\n",
       "<style scoped>\n",
       "    .dataframe tbody tr th:only-of-type {\n",
       "        vertical-align: middle;\n",
       "    }\n",
       "\n",
       "    .dataframe tbody tr th {\n",
       "        vertical-align: top;\n",
       "    }\n",
       "\n",
       "    .dataframe thead th {\n",
       "        text-align: right;\n",
       "    }\n",
       "</style>\n",
       "<table border=\"1\" class=\"dataframe\">\n",
       "  <thead>\n",
       "    <tr style=\"text-align: right;\">\n",
       "      <th></th>\n",
       "      <th>f0</th>\n",
       "      <th>f1</th>\n",
       "      <th>f2</th>\n",
       "      <th>product</th>\n",
       "    </tr>\n",
       "  </thead>\n",
       "  <tbody>\n",
       "    <tr>\n",
       "      <th>count</th>\n",
       "      <td>100000.000000</td>\n",
       "      <td>100000.000000</td>\n",
       "      <td>100000.000000</td>\n",
       "      <td>100000.000000</td>\n",
       "    </tr>\n",
       "    <tr>\n",
       "      <th>mean</th>\n",
       "      <td>0.002023</td>\n",
       "      <td>-0.002081</td>\n",
       "      <td>2.495128</td>\n",
       "      <td>95.000000</td>\n",
       "    </tr>\n",
       "    <tr>\n",
       "      <th>std</th>\n",
       "      <td>1.732045</td>\n",
       "      <td>1.730417</td>\n",
       "      <td>3.473445</td>\n",
       "      <td>44.749921</td>\n",
       "    </tr>\n",
       "    <tr>\n",
       "      <th>min</th>\n",
       "      <td>-8.760004</td>\n",
       "      <td>-7.084020</td>\n",
       "      <td>-11.970335</td>\n",
       "      <td>0.000000</td>\n",
       "    </tr>\n",
       "    <tr>\n",
       "      <th>25%</th>\n",
       "      <td>-1.162288</td>\n",
       "      <td>-1.174820</td>\n",
       "      <td>0.130359</td>\n",
       "      <td>59.450441</td>\n",
       "    </tr>\n",
       "    <tr>\n",
       "      <th>50%</th>\n",
       "      <td>0.009424</td>\n",
       "      <td>-0.009482</td>\n",
       "      <td>2.484236</td>\n",
       "      <td>94.925613</td>\n",
       "    </tr>\n",
       "    <tr>\n",
       "      <th>75%</th>\n",
       "      <td>1.158535</td>\n",
       "      <td>1.163678</td>\n",
       "      <td>4.858794</td>\n",
       "      <td>130.595027</td>\n",
       "    </tr>\n",
       "    <tr>\n",
       "      <th>max</th>\n",
       "      <td>7.238262</td>\n",
       "      <td>7.844801</td>\n",
       "      <td>16.739402</td>\n",
       "      <td>190.029838</td>\n",
       "    </tr>\n",
       "  </tbody>\n",
       "</table>\n",
       "</div>"
      ],
      "text/plain": [
       "                  f0             f1             f2        product\n",
       "count  100000.000000  100000.000000  100000.000000  100000.000000\n",
       "mean        0.002023      -0.002081       2.495128      95.000000\n",
       "std         1.732045       1.730417       3.473445      44.749921\n",
       "min        -8.760004      -7.084020     -11.970335       0.000000\n",
       "25%        -1.162288      -1.174820       0.130359      59.450441\n",
       "50%         0.009424      -0.009482       2.484236      94.925613\n",
       "75%         1.158535       1.163678       4.858794     130.595027\n",
       "max         7.238262       7.844801      16.739402     190.029838"
      ]
     },
     "execution_count": 16,
     "metadata": {},
     "output_type": "execute_result"
    }
   ],
   "source": [
    "#generate descriptive statistics for the numerical columns in the DataFrame \n",
    "df3.describe()"
   ]
  },
  {
   "cell_type": "code",
   "execution_count": 17,
   "metadata": {},
   "outputs": [
    {
     "name": "stdout",
     "output_type": "stream",
     "text": [
      "<class 'pandas.core.frame.DataFrame'>\n",
      "RangeIndex: 100000 entries, 0 to 99999\n",
      "Data columns (total 5 columns):\n",
      " #   Column   Non-Null Count   Dtype  \n",
      "---  ------   --------------   -----  \n",
      " 0   id       100000 non-null  object \n",
      " 1   f0       100000 non-null  float64\n",
      " 2   f1       100000 non-null  float64\n",
      " 3   f2       100000 non-null  float64\n",
      " 4   product  100000 non-null  float64\n",
      "dtypes: float64(4), object(1)\n",
      "memory usage: 3.8+ MB\n"
     ]
    }
   ],
   "source": [
    "#Analyze general information\n",
    "df3.info()"
   ]
  },
  {
   "cell_type": "code",
   "execution_count": 18,
   "metadata": {},
   "outputs": [
    {
     "data": {
      "text/plain": [
       "id         0\n",
       "f0         0\n",
       "f1         0\n",
       "f2         0\n",
       "product    0\n",
       "dtype: int64"
      ]
     },
     "execution_count": 18,
     "metadata": {},
     "output_type": "execute_result"
    }
   ],
   "source": [
    "# Count the number of missing values (NaN) in each column of the DataFrame 'df3'\n",
    "df3.isnull().sum()"
   ]
  },
  {
   "cell_type": "code",
   "execution_count": 19,
   "metadata": {},
   "outputs": [
    {
     "data": {
      "text/plain": [
       "0"
      ]
     },
     "execution_count": 19,
     "metadata": {},
     "output_type": "execute_result"
    }
   ],
   "source": [
    "# Check for duplicate rows in the DataFrame 'df3'\n",
    "df3.duplicated().sum()"
   ]
  },
  {
   "cell_type": "code",
   "execution_count": 20,
   "metadata": {},
   "outputs": [
    {
     "data": {
      "image/png": "[encoded data removed]",
      "text/plain": [
       "<Figure size 640x480 with 1 Axes>"
      ]
     },
     "metadata": {},
     "output_type": "display_data"
    }
   ],
   "source": [
    "# Create histograms for features f0, f1, f2, and product\n",
    "plt.hist(df3['f0'], alpha=0.5, label='f0')  # Histogram for feature f0 with 50% transparency\n",
    "plt.hist(df3['f1'], alpha=0.5, label='f1')  # Histogram for feature f1 with 50% transparency\n",
    "plt.hist(df3['f2'], alpha=0.5, label='f2')  # Histogram for feature f2 with 50% transparency\n",
    "plt.hist(df3['product'], alpha=0.5, label='Product')  # Histogram for product feature with 50% transparency\n",
    "\n",
    "# Set plot title and label for x-axis\n",
    "plt.title('Histogram of Data')  # Descriptive title for the plot\n",
    "plt.xlabel('Barrels')  # Label for the x-axis\n",
    "\n",
    "# Add legend to differentiate between histograms\n",
    "plt.legend()  # Legend to identify each histogram\n",
    "\n",
    "# Display the plot\n",
    "plt.show()"
   ]
  },
  {
   "cell_type": "markdown",
   "metadata": {},
   "source": [
    "## Train and test the model for each region in geo_data_0.csv:"
   ]
  },
  {
   "cell_type": "code",
   "execution_count": 21,
   "metadata": {},
   "outputs": [],
   "source": [
    "# Select features from the DataFrame \n",
    "features1 = df1.drop(columns=['id', 'product'], axis=1) \n",
    "\n",
    "# Select the target variable \n",
    "target1 = df1['product']"
   ]
  },
  {
   "cell_type": "code",
   "execution_count": 22,
   "metadata": {},
   "outputs": [],
   "source": [
    "#Splits the data into a training set and a validation set in a ratio of 75:25\n",
    "features_train1, features_valid1, target_train1, target_valid1 = train_test_split(features1,target1, test_size=0.25,random_state=12345)"
   ]
  },
  {
   "cell_type": "code",
   "execution_count": 23,
   "metadata": {},
   "outputs": [],
   "source": [
    "scaler = StandardScaler()\n",
    "\n",
    "#Fit the scaler to the training data and transform it\n",
    "features_train1 = scaler.fit_transform(features_train1)\n",
    "\n",
    "#Transform validation data using the adjusted scaler\n",
    "features_valid1 = scaler.transform(features_valid1)\n"
   ]
  },
  {
   "cell_type": "code",
   "execution_count": 24,
   "metadata": {},
   "outputs": [
    {
     "name": "stdout",
     "output_type": "stream",
     "text": [
      "MSE: 1412.2129364399243\n",
      "RMSE: 37.5794217150813\n"
     ]
    },
    {
     "name": "stderr",
     "output_type": "stream",
     "text": [
      "/opt/anaconda3/lib/python3.12/site-packages/sklearn/utils/validation.py:2732: UserWarning: X has feature names, but LinearRegression was fitted without feature names\n",
      "  warnings.warn(\n"
     ]
    }
   ],
   "source": [
    "# Train the model and make predictions on the validation set.\n",
    "model = LinearRegression()\n",
    "model.fit(features_train1, target_train1)\n",
    "\n",
    "# Make predictions on the validation set and store the results\n",
    "predicted1 = model.predict(features_valid1)\n",
    "\n",
    "# Calculate the mean squared error (MSE) between predicted and actual values\n",
    "mse1 = mean_squared_error(target_valid1, predicted1)\n",
    "\n",
    "# Calculate the root mean squared error (RMSE)\n",
    "rmse1 = np.sqrt(mse1)\n",
    "\n",
    "# Make predictions on the entire dataset (features1)\n",
    "predicted_value1 = model.predict(features1)\n",
    "\n",
    "# Print the evaluation metrics\n",
    "print('MSE:', mse1)\n",
    "print('RMSE:', rmse1)"
   ]
  },
  {
   "cell_type": "markdown",
   "metadata": {},
   "source": [
    "An MSE of 1412.21 indicates that, on average, the square of the difference between the predicted and actual reserve volume is 1412.21 square units.\n",
    "An RMSE of 37.57 means that, on average, our predictions are off by about 37.57 thousand barrels."
   ]
  },
  {
   "cell_type": "code",
   "execution_count": 25,
   "metadata": {},
   "outputs": [],
   "source": [
    "def train_predict_model(df):\n",
    "    \"\"\"\n",
    "    This function trains a linear regression model, makes predictions, \n",
    "    and calculates performance metrics on a given DataFrame.\n",
    "\n",
    "    Args:\n",
    "        df (pandas.DataFrame): The DataFrame containing features and target variable.\n",
    "\n",
    "    Returns:\n",
    "        tuple: A tuple containing the following elements:\n",
    "            - predicted_valid (numpy.ndarray): The predicted labels for the validation set.\n",
    "            - mse (float): The mean squared error of the model on the validation set.\n",
    "            - rmse (float): The root mean squared error of the model on the validation set.\n",
    "            - predicted_all (numpy.ndarray): The predicted labels for the entire DataFrame.\n",
    "    \"\"\"\n",
    "\n",
    "    # Separate features and target variable\n",
    "    features = df.drop(columns=['id', 'product'], axis=1)\n",
    "    target = df['product']\n",
    "\n",
    "    # Split data into training and validation sets\n",
    "    features_train, features_valid, target_train, target_valid = train_test_split(features, target, test_size=0.25, random_state=12345)\n",
    "\n",
    "    # Standardize features using StandardScaler\n",
    "    scaler = StandardScaler()\n",
    "    features_train = scaler.fit_transform(features_train)\n",
    "    features_valid = scaler.transform(features_valid)\n",
    "\n",
    "    # Train a linear regression model\n",
    "    model = LinearRegression()\n",
    "    model.fit(features_train, target_train)\n",
    "\n",
    "    # Make predictions on the validation set\n",
    "    predicted_valid = model.predict(features_valid)\n",
    "\n",
    "    # Calculate performance metrics\n",
    "    mse = mean_squared_error(target_valid, predicted_valid)\n",
    "    rmse = np.sqrt(mse)\n",
    "\n",
    "    # Make predictions on the entire DataFrame\n",
    "    predicted_all = model.predict(features)\n",
    "\n",
    "    # Return results\n",
    "    return predicted_valid, mse, rmse, predicted_all"
   ]
  },
  {
   "cell_type": "code",
   "execution_count": 26,
   "metadata": {},
   "outputs": [
    {
     "name": "stdout",
     "output_type": "stream",
     "text": [
      "Predicted Values for df2: [ 82.66331365  54.43178616  29.74875995 ... 137.87934053  83.76196568\n",
      "  53.95846638]\n",
      "Mean Squared Error for df2: 0.7976263360391157\n",
      "Root Mean Squared Error for df2: 0.893099286775617\n"
     ]
    },
    {
     "name": "stderr",
     "output_type": "stream",
     "text": [
      "/opt/anaconda3/lib/python3.12/site-packages/sklearn/utils/validation.py:2732: UserWarning: X has feature names, but LinearRegression was fitted without feature names\n",
      "  warnings.warn(\n"
     ]
    }
   ],
   "source": [
    "# Execute steps 2.1-2.5 for the file 'geo_data_1.csv' \n",
    "\n",
    "predicted2, mse2, rmse2, predicted_value2 = train_predict_model(df2) \n",
    "\n",
    "print(\"Predicted Values for df2:\", predicted2)\n",
    "print(\"Mean Squared Error for df2:\", mse2)\n",
    "print(\"Root Mean Squared Error for df2:\", rmse2)"
   ]
  },
  {
   "cell_type": "code",
   "execution_count": 27,
   "metadata": {},
   "outputs": [
    {
     "name": "stdout",
     "output_type": "stream",
     "text": [
      "Predicted Values for df3: [ 93.59963303  75.10515854  90.06680936 ...  99.40728116  77.77991248\n",
      " 129.03241718]\n",
      "Mean Squared Error for df3: 1602.3775813236196\n",
      "Root Mean Squared Error for df3: 40.02970873393434\n"
     ]
    },
    {
     "name": "stderr",
     "output_type": "stream",
     "text": [
      "/opt/anaconda3/lib/python3.12/site-packages/sklearn/utils/validation.py:2732: UserWarning: X has feature names, but LinearRegression was fitted without feature names\n",
      "  warnings.warn(\n"
     ]
    }
   ],
   "source": [
    "#run steps 2.1-2.5 for 'geo_data_2.csv' files\n",
    "predicted3, mse3, rmse3, predicted_value3 = train_predict_model(df3)\n",
    "\n",
    "print(\"Predicted Values for df3:\", predicted3)\n",
    "print(\"Mean Squared Error for df3:\", mse3)\n",
    "print(\"Root Mean Squared Error for df3:\", rmse3)"
   ]
  },
  {
   "cell_type": "markdown",
   "metadata": {},
   "source": [
    "The model with the least error is the one that was trained with the data set of region 2, with an MSE of 0.7976263360391157 indicating that, on average, the square of the difference between the predicted and actual reserve volume is 0.7976263360391157 square units . An RMSE of 0.893099286775617 means that, on average, our predictions are off by about 0.893099286775617 thousand barrels."
   ]
  },
  {
   "cell_type": "markdown",
   "metadata": {},
   "source": [
    "## Earnings calculation:"
   ]
  },
  {
   "cell_type": "code",
   "execution_count": 28,
   "metadata": {},
   "outputs": [],
   "source": [
    "# Assign predicted values to a new column in each DataFrame\n",
    "df1['predicted_value'] = predicted_value1 \n",
    "df2['predicted_value'] = predicted_value2\n",
    "df3['predicted_value'] = predicted_value3\n",
    "\n",
    "# Create new DataFrames containing only the predicted values\n",
    "df_predicted_value1 = pd.DataFrame(predicted_value1)\n",
    "df_predicted_value2 = pd.DataFrame(predicted_value2)\n",
    "df_predicted_value3 = pd.DataFrame(predicted_value3)"
   ]
  },
  {
   "cell_type": "code",
   "execution_count": 29,
   "metadata": {},
   "outputs": [
    {
     "data": {
      "image/png": "[encoded data removed]",
      "text/plain": [
       "<Figure size 640x480 with 1 Axes>"
      ]
     },
     "metadata": {},
     "output_type": "display_data"
    }
   ],
   "source": [
    "# Create histograms to compare predicted volumes for different regions\n",
    "\n",
    "# Plot a histogram for the first region\n",
    "plt.hist(df1['predicted_value'], alpha=0.5, label='Region 1')\n",
    "\n",
    "# Plot a histogram for the second region\n",
    "plt.hist(df2['predicted_value'], alpha=0.5, label='Region 2')\n",
    "\n",
    "# Plot a histogram for the third region\n",
    "plt.hist(df3['predicted_value'], alpha=0.5, label='Region 3')\n",
    "\n",
    "# Set the title of the plot\n",
    "plt.title('Histogram of predicted oil well reserve volumes')\n",
    "\n",
    "# Label the x-axis\n",
    "plt.xlabel('Barrels')\n",
    "\n",
    "# Add a legend to distinguish between the regions\n",
    "plt.legend()\n",
    "\n",
    "# Add a vertical line to indicate the target volume\n",
    "plt.axvline(x=111.1, color='r', linestyle='--', label='Target Volume')\n",
    "\n",
    "# Display the plot\n",
    "plt.show()"
   ]
  },
  {
   "cell_type": "code",
   "execution_count": 30,
   "metadata": {},
   "outputs": [],
   "source": [
    "# Select the top 200 rows with the highest predicted values from df1\n",
    "df1_selected = df1.sort_values(by='predicted_value', ascending=False).head(200)\n",
    "\n",
    "# Select the top 200 rows with the highest predicted values from df2\n",
    "df2_selected = df2.sort_values(by='predicted_value', ascending=False).head(200)\n",
    "\n",
    "# Select the top 200 rows with the highest predicted values from df3\n",
    "df3_selected = df3.sort_values(by='predicted_value', ascending=False).head(200)"
   ]
  },
  {
   "cell_type": "code",
   "execution_count": 31,
   "metadata": {},
   "outputs": [],
   "source": [
    "#Price per barrel: The monetary value of a barrel of crude oil.\n",
    "precio_barril = 4500 \n",
    "#Cost per well: The total cost of drilling and equipping a well.\n",
    "costo_pozo = 500000 \n",
    "#Number of wells to develop: In this case, it is established at 200 wells.\n",
    "pozos = 200"
   ]
  },
  {
   "cell_type": "markdown",
   "metadata": {},
   "source": [
    "Conclusions: in the 3 regions there are good results to be able to obtain profits, the next step is to investigate which of those 200 points in the 3 regions are the optimal ones to be able to obtain the maximum profits. Bootstrapping will allow us to simulate multiple future scenarios and obtain a distribution of possible profits, which will help us quantify uncertainty. \n",
    "\n",
    "Earnings function:\n",
    "The total income of a DataFrame of predictions will be calculated, considering a price and units per barrel.\n",
    "The total cost will be subtracted to obtain the total profit.\n",
    "\n",
    "bootstrap function:\n",
    "You will perform a bootstrap to estimate the distribution of total profits.\n",
    "It will show the variability of profits due to the randomness of the predictions.\n"
   ]
  },
  {
   "cell_type": "markdown",
   "metadata": {},
   "source": [
    "## Write a function to calculate the profit for a set of selected oil wells and model the predictions"
   ]
  },
  {
   "cell_type": "code",
   "execution_count": 32,
   "metadata": {},
   "outputs": [],
   "source": [
    "def ganancias_total(df, precio, unidades, costo):\n",
    "  \"\"\"\n",
    "  Calculates the total profit based on predicted values, price, units, and cost.\n",
    "\n",
    "  Args:\n",
    "    df: DataFrame containing predicted values.\n",
    "    precio: Price per unit.\n",
    "    unidades: Units per well.\n",
    "    costo: Cost per well.\n",
    "\n",
    "  Returns:\n",
    "    Total profit.\n",
    "  \"\"\"\n",
    "\n",
    "  # Calculate revenue per well\n",
    "  ingreso_pozo = df['predicted_value'] * precio * unidades\n",
    "\n",
    "  # Calculate profit per well and then sum for total profit\n",
    "  ganancia = ingreso_pozo - costo\n",
    "  ganancia_total = ganancia.sum()\n",
    "  return ganancia_total\n",
    "\n",
    "def bootstrap(data, n_samples, precio, unidades, costo):\n",
    "  \"\"\"\n",
    "  Performs bootstrap resampling to estimate the distribution of total profits.\n",
    "\n",
    "  Args:\n",
    "    data: DataFrame containing the data.\n",
    "    n_samples: Number of bootstrap samples.\n",
    "    precio: Price per unit.\n",
    "    unidades: Units per well.\n",
    "    costo: Cost per well.\n",
    "\n",
    "  Returns:\n",
    "    Array of total profit values from each bootstrap sample.\n",
    "  \"\"\"\n",
    "\n",
    "  values = []\n",
    "  for i in range(n_samples):\n",
    "    # Sample with replacement to create a new dataset\n",
    "    subsample = data.sample(n=200, replace=True)\n",
    "    # Calculate total profit for the subsample\n",
    "    values.append(ganancias_total(subsample, precio, unidades, costo))\n",
    "\n",
    "  return np.array(values)"
   ]
  },
  {
   "cell_type": "markdown",
   "metadata": {},
   "source": [
    "## Calculate risks and profits for each region"
   ]
  },
  {
   "cell_type": "code",
   "execution_count": 33,
   "metadata": {},
   "outputs": [
    {
     "name": "stderr",
     "output_type": "stream",
     "text": [
      "<>:12: SyntaxWarning: invalid escape sequence '\\ '\n",
      "<>:12: SyntaxWarning: invalid escape sequence '\\ '\n",
      "/var/folders/zz/1lh114c55jj9tjb2vztk4z340000gq/T/ipykernel_67622/4226872101.py:12: SyntaxWarning: invalid escape sequence '\\ '\n",
      "  print(f\"Región 0:\\nMedia: {mean_profit:.2f}\\nStandard deviation: {std_profit: .2f} \\ nriesgo de losses: {risk_of_loss:.2%}\")\n"
     ]
    },
    {
     "name": "stdout",
     "output_type": "stream",
     "text": [
      "Región 0:\n",
      "Media: 323718867924.34\n",
      "Standard deviation:  1122484562.95 \\ nriesgo de losses: 0.00%\n"
     ]
    }
   ],
   "source": [
    "# Perform 1000 bootstrap simulations to estimate the profit distribution \n",
    "profit1 = bootstrap(df1_selected, 1000, precio_barril, 1000, costo_pozo) \n",
    "\n",
    "# Calculate descriptive statistics of the simulated profits\n",
    "mean_profit = np.mean(profit1)\n",
    "std_profit = np.std(profit1)\n",
    "\n",
    "# Calculate the risk of loss (probability of negative profit)\n",
    "risk_of_loss = np.mean(profit1 < 0) \n",
    "\n",
    "# Print the results\n",
    "print(f\"Región 0:\\nMedia: {mean_profit:.2f}\\nStandard deviation: {std_profit: .2f} \\ nriesgo de losses: {risk_of_loss:.2%}\")"
   ]
  },
  {
   "cell_type": "code",
   "execution_count": 34,
   "metadata": {},
   "outputs": [
    {
     "name": "stderr",
     "output_type": "stream",
     "text": [
      "<>:12: SyntaxWarning: invalid escape sequence '\\ '\n",
      "<>:12: SyntaxWarning: invalid escape sequence '\\ '\n",
      "/var/folders/zz/1lh114c55jj9tjb2vztk4z340000gq/T/ipykernel_67622/3360763175.py:12: SyntaxWarning: invalid escape sequence '\\ '\n",
      "  print(f\"Región 2:\\nMedia: {mean_profit:.2f}\\nStandard deviation: {std_profit: .2f} \\ nriesgo de losses: {risk_of_loss:.2%}\")\n"
     ]
    },
    {
     "name": "stdout",
     "output_type": "stream",
     "text": [
      "Región 2:\n",
      "Media: 289818782103.27\n",
      "Standard deviation:  144190319.29 \\ nriesgo de losses: 0.00%\n"
     ]
    }
   ],
   "source": [
    "# Perform 1000 bootstrap simulations to estimate the profit distribution\n",
    "profit2 = bootstrap(df2_selected, 1000, precio_barril, 1000, costo_pozo) \n",
    "\n",
    "# Calculate descriptive statistics of the simulated profits\n",
    "mean_profit = np.mean(profit2)\n",
    "std_profit = np.std(profit2)\n",
    "\n",
    "# Calculate the risk of loss (probability of negative profit)\n",
    "risk_of_loss = np.mean(profit2 < 0) \n",
    "\n",
    "# Print the results\n",
    "print(f\"Región 2:\\nMedia: {mean_profit:.2f}\\nStandard deviation: {std_profit: .2f} \\ nriesgo de losses: {risk_of_loss:.2%}\")"
   ]
  },
  {
   "cell_type": "code",
   "execution_count": 35,
   "metadata": {},
   "outputs": [
    {
     "name": "stderr",
     "output_type": "stream",
     "text": [
      "<>:12: SyntaxWarning: invalid escape sequence '\\ '\n",
      "<>:12: SyntaxWarning: invalid escape sequence '\\ '\n",
      "/var/folders/zz/1lh114c55jj9tjb2vztk4z340000gq/T/ipykernel_67622/1359193143.py:12: SyntaxWarning: invalid escape sequence '\\ '\n",
      "  print(f\"Region 3:\\nMedia: {mean_profit:.2f}\\nStandard deviation: {std_profit: .2f} \\ nriesgo de losses: {risk_of_loss:.2%}\")\n"
     ]
    },
    {
     "name": "stdout",
     "output_type": "stream",
     "text": [
      "Region 3:\n",
      "Media: 321328185242.73\n",
      "Standard deviation:  1112470003.58 \\ nriesgo de losses: 0.00%\n"
     ]
    }
   ],
   "source": [
    "# Perform 1000 bootstrap simulations to estimate the profit distribution for Region 3\n",
    "profit3 = bootstrap(df3_selected, 1000, precio_barril, 1000, costo_pozo) \n",
    "\n",
    "# Calculate descriptive statistics of the profit distribution\n",
    "mean_profit = np.mean(profit3)\n",
    "std_profit = np.std(profit3)\n",
    "\n",
    "# Calculate the risk of loss (probability of negative profit)\n",
    "risk_of_loss = np.mean(profit3 < 0) \n",
    "\n",
    "# Print the results\n",
    "print(f\"Region 3:\\nMedia: {mean_profit:.2f}\\nStandard deviation: {std_profit: .2f} \\ nriesgo de losses: {risk_of_loss:.2%}\")"
   ]
  },
  {
   "cell_type": "code",
   "execution_count": 36,
   "metadata": {},
   "outputs": [
    {
     "name": "stdout",
     "output_type": "stream",
     "text": [
      "Region 0:\n",
      "Media: 323646275356.65\n",
      "Standard deviation: 1136552112.67\n",
      "Loss risk: 0.00%\n"
     ]
    }
   ],
   "source": [
    "# Suponiendo que tienes DataFrames 'df_0', 'df_1', y 'df_2' con las predicciones para cada región\n",
    "# y que 'predictions' es una lista que contiene estos DataFrames\n",
    "\n",
    "def calculate_profit(df):\n",
    "    \"\"\"\n",
    "    Calculates the total profit based on predicted values in the DataFrame.\n",
    "\n",
    "    Args:\n",
    "        df: DataFrame containing predicted values and other relevant information.\n",
    "\n",
    "    Returns:\n",
    "        Total profit calculated based on predicted values and cost.\n",
    "    \"\"\"\n",
    "    df['profit'] = (df['predicted_value'] * 4500 * 1000) - 500000 \n",
    "    return df['profit'].sum()\n",
    "\n",
    "def bootstrap_profit(df, n_samples=1000):\n",
    "    \"\"\"\n",
    "    Performs bootstrap resampling to estimate the distribution of profits.\n",
    "\n",
    "    Args:\n",
    "        df: DataFrame containing the data.\n",
    "        n_samples: Number of bootstrap samples to generate.\n",
    "\n",
    "    Returns:\n",
    "        An array of bootstrap profit estimates.\n",
    "    \"\"\"\n",
    "    boot_profits = []\n",
    "    for _ in range(n_samples):\n",
    "        sample = df.sample(n=200, replace=True)  # Sample with replacement from the DataFrame\n",
    "        boot_profits.append(calculate_profit(sample))\n",
    "    return np.array(boot_profits)\n",
    "\n",
    "# Ejemplo para la región 0\n",
    "profits_region_0 = bootstrap_profit(df1_selected)\n",
    "\n",
    "# Calcular estadísticas descriptivas\n",
    "mean_profit = np.mean(profits_region_0)\n",
    "std_profit = np.std(profits_region_0)\n",
    "percentile_5 = np.percentile(profits_region_0, 5)\n",
    "\n",
    "# Calcular riesgo de pérdidas\n",
    "risk_of_loss = np.mean(profits_region_0 < 0)\n",
    "\n",
    "print(f\"Region 0:\\nMedia: {mean_profit:.2f}\\nStandard deviation: {std_profit:.2f}\\nLoss risk: {risk_of_loss:.2%}\")\n"
   ]
  },
  {
   "cell_type": "markdown",
   "metadata": {},
   "source": [
    "Considering the data provided, it is observed that the three regions present a very high average return and a zero risk of loss. This suggests that, from a purely financial perspective, any of the three regions could be an excellent option for the development of new oil wells. However, taking into account that region number 3 is the one with the highest average earnings: 146790764110.18, this option is selected."
   ]
  },
  {
   "cell_type": "markdown",
   "metadata": {},
   "source": [
    "## Conclusions \n",
    "Data Collection: Data was collected on the projected performance of oil wells in each of the three regions.\n",
    "Statistical Analysis: Key metrics such as mean, standard deviation, and risk of loss were calculated for each region.\n",
    "Comparison: Metrics from all three regions were compared to identify patterns and differences.\n",
    "Selection: The region with the best average return was selected as the most promising option for investment\n",
    "Based on the analysis carried out, it is concluded that Region 3 is the most suitable for the development of new oil wells. This decision is based on the fact that it has the highest profit generation potential among the three regions evaluated."
   ]
  }
 ],
 "metadata": {
  "ExecuteTimeLog": [
   {
    "duration": 308,
    "start_time": "2024-08-07T15:17:32.399Z"
   },
   {
    "duration": 5086,
    "start_time": "2024-08-07T15:17:55.647Z"
   },
   {
    "duration": 506,
    "start_time": "2024-08-07T15:25:25.240Z"
   },
   {
    "duration": 17,
    "start_time": "2024-08-07T15:25:40.246Z"
   },
   {
    "duration": 43,
    "start_time": "2024-08-07T15:26:01.167Z"
   },
   {
    "duration": 18,
    "start_time": "2024-08-07T15:26:07.430Z"
   },
   {
    "duration": 13,
    "start_time": "2024-08-07T15:26:52.434Z"
   },
   {
    "duration": 47,
    "start_time": "2024-08-07T15:27:01.598Z"
   },
   {
    "duration": 18,
    "start_time": "2024-08-07T15:27:11.183Z"
   },
   {
    "duration": 12,
    "start_time": "2024-08-07T15:27:34.962Z"
   },
   {
    "duration": 40,
    "start_time": "2024-08-07T15:27:41.554Z"
   },
   {
    "duration": 16,
    "start_time": "2024-08-07T15:27:46.644Z"
   },
   {
    "duration": 323,
    "start_time": "2024-08-08T12:36:29.788Z"
   },
   {
    "duration": 5007,
    "start_time": "2024-08-08T12:36:34.583Z"
   },
   {
    "duration": 546,
    "start_time": "2024-08-08T12:36:39.594Z"
   },
   {
    "duration": 18,
    "start_time": "2024-08-08T12:36:40.143Z"
   },
   {
    "duration": 69,
    "start_time": "2024-08-08T12:36:40.164Z"
   },
   {
    "duration": 19,
    "start_time": "2024-08-08T12:36:40.237Z"
   },
   {
    "duration": 12,
    "start_time": "2024-08-08T12:36:40.259Z"
   },
   {
    "duration": 78,
    "start_time": "2024-08-08T12:36:40.275Z"
   },
   {
    "duration": 18,
    "start_time": "2024-08-08T12:36:40.356Z"
   },
   {
    "duration": 14,
    "start_time": "2024-08-08T12:36:40.377Z"
   },
   {
    "duration": 70,
    "start_time": "2024-08-08T12:36:40.394Z"
   },
   {
    "duration": 19,
    "start_time": "2024-08-08T12:36:40.467Z"
   },
   {
    "duration": 7,
    "start_time": "2024-08-08T12:36:44.531Z"
   },
   {
    "duration": 23,
    "start_time": "2024-08-08T12:40:47.680Z"
   },
   {
    "duration": 6,
    "start_time": "2024-08-08T12:51:53.053Z"
   },
   {
    "duration": 8,
    "start_time": "2024-08-08T12:56:22.391Z"
   },
   {
    "duration": 22,
    "start_time": "2024-08-08T12:56:23.797Z"
   },
   {
    "duration": 7,
    "start_time": "2024-08-08T12:58:15.540Z"
   },
   {
    "duration": 218,
    "start_time": "2024-08-08T12:58:28.464Z"
   },
   {
    "duration": 7,
    "start_time": "2024-08-08T12:58:44.922Z"
   },
   {
    "duration": 36,
    "start_time": "2024-08-08T12:59:46.321Z"
   },
   {
    "duration": 77,
    "start_time": "2024-08-08T13:00:13.765Z"
   },
   {
    "duration": 850,
    "start_time": "2024-08-08T13:04:30.488Z"
   },
   {
    "duration": 21,
    "start_time": "2024-08-08T13:04:48.618Z"
   },
   {
    "duration": 5,
    "start_time": "2024-08-08T13:08:42.142Z"
   },
   {
    "duration": 17,
    "start_time": "2024-08-08T13:08:43.177Z"
   },
   {
    "duration": 278,
    "start_time": "2024-08-08T13:08:45.757Z"
   },
   {
    "duration": 24,
    "start_time": "2024-08-08T13:12:55.735Z"
   },
   {
    "duration": 21,
    "start_time": "2024-08-08T13:13:02.073Z"
   },
   {
    "duration": 21,
    "start_time": "2024-08-08T13:13:19.173Z"
   },
   {
    "duration": 13,
    "start_time": "2024-08-08T13:14:31.889Z"
   },
   {
    "duration": 13,
    "start_time": "2024-08-08T13:15:10.712Z"
   },
   {
    "duration": 13,
    "start_time": "2024-08-08T13:15:29.048Z"
   },
   {
    "duration": 20,
    "start_time": "2024-08-08T13:15:44.659Z"
   },
   {
    "duration": 22,
    "start_time": "2024-08-08T13:16:04.177Z"
   },
   {
    "duration": 17,
    "start_time": "2024-08-08T13:18:29.149Z"
   },
   {
    "duration": 16,
    "start_time": "2024-08-08T13:21:50.959Z"
   },
   {
    "duration": 9,
    "start_time": "2024-08-08T13:29:41.080Z"
   },
   {
    "duration": 9,
    "start_time": "2024-08-08T13:31:46.366Z"
   },
   {
    "duration": 6,
    "start_time": "2024-08-08T13:31:51.949Z"
   },
   {
    "duration": 6,
    "start_time": "2024-08-08T13:32:26.575Z"
   },
   {
    "duration": 133,
    "start_time": "2024-08-08T13:32:33.408Z"
   },
   {
    "duration": 7,
    "start_time": "2024-08-08T13:32:44.582Z"
   },
   {
    "duration": 31,
    "start_time": "2024-08-08T13:32:47.069Z"
   },
   {
    "duration": 30,
    "start_time": "2024-08-08T13:32:58.861Z"
   },
   {
    "duration": 14,
    "start_time": "2024-08-08T13:33:57.060Z"
   },
   {
    "duration": 5060,
    "start_time": "2024-08-08T15:12:39.426Z"
   },
   {
    "duration": 486,
    "start_time": "2024-08-08T15:12:44.489Z"
   },
   {
    "duration": 18,
    "start_time": "2024-08-08T15:12:44.977Z"
   },
   {
    "duration": 56,
    "start_time": "2024-08-08T15:12:44.997Z"
   },
   {
    "duration": 19,
    "start_time": "2024-08-08T15:12:45.058Z"
   },
   {
    "duration": 43,
    "start_time": "2024-08-08T15:12:45.080Z"
   },
   {
    "duration": 41,
    "start_time": "2024-08-08T15:12:45.126Z"
   },
   {
    "duration": 18,
    "start_time": "2024-08-08T15:12:45.170Z"
   },
   {
    "duration": 12,
    "start_time": "2024-08-08T15:12:45.222Z"
   },
   {
    "duration": 41,
    "start_time": "2024-08-08T15:12:45.238Z"
   },
   {
    "duration": 48,
    "start_time": "2024-08-08T15:12:45.282Z"
   },
   {
    "duration": 7,
    "start_time": "2024-08-08T15:12:45.332Z"
   },
   {
    "duration": 16,
    "start_time": "2024-08-08T15:12:45.342Z"
   },
   {
    "duration": 69,
    "start_time": "2024-08-08T15:12:45.364Z"
   },
   {
    "duration": 7,
    "start_time": "2024-08-08T15:12:45.436Z"
   },
   {
    "duration": 184,
    "start_time": "2024-08-08T15:12:45.445Z"
   },
   {
    "duration": 34,
    "start_time": "2024-08-08T15:13:31.111Z"
   },
   {
    "duration": 6,
    "start_time": "2024-08-08T15:14:10.175Z"
   },
   {
    "duration": 600,
    "start_time": "2024-08-08T15:14:11.876Z"
   },
   {
    "duration": 118,
    "start_time": "2024-08-08T15:14:33.407Z"
   },
   {
    "duration": 6,
    "start_time": "2024-08-08T15:14:37.218Z"
   },
   {
    "duration": 31,
    "start_time": "2024-08-08T15:15:33.560Z"
   },
   {
    "duration": 5,
    "start_time": "2024-08-08T15:20:07.178Z"
   },
   {
    "duration": 32,
    "start_time": "2024-08-08T15:20:09.107Z"
   },
   {
    "duration": 32,
    "start_time": "2024-08-08T15:20:27.419Z"
   },
   {
    "duration": 41,
    "start_time": "2024-08-08T15:22:01.106Z"
   },
   {
    "duration": 9,
    "start_time": "2024-08-08T15:22:10.246Z"
   },
   {
    "duration": 4,
    "start_time": "2024-08-08T15:26:05.816Z"
   },
   {
    "duration": 5102,
    "start_time": "2024-08-08T17:42:03.095Z"
   },
   {
    "duration": 458,
    "start_time": "2024-08-08T17:42:08.201Z"
   },
   {
    "duration": 17,
    "start_time": "2024-08-08T17:42:08.663Z"
   },
   {
    "duration": 63,
    "start_time": "2024-08-08T17:42:08.686Z"
   },
   {
    "duration": 18,
    "start_time": "2024-08-08T17:42:08.752Z"
   },
   {
    "duration": 12,
    "start_time": "2024-08-08T17:42:08.773Z"
   },
   {
    "duration": 67,
    "start_time": "2024-08-08T17:42:08.789Z"
   },
   {
    "duration": 18,
    "start_time": "2024-08-08T17:42:08.860Z"
   },
   {
    "duration": 43,
    "start_time": "2024-08-08T17:42:08.881Z"
   },
   {
    "duration": 41,
    "start_time": "2024-08-08T17:42:08.929Z"
   },
   {
    "duration": 19,
    "start_time": "2024-08-08T17:42:08.973Z"
   },
   {
    "duration": 5,
    "start_time": "2024-08-08T17:42:09.023Z"
   },
   {
    "duration": 16,
    "start_time": "2024-08-08T17:42:09.032Z"
   },
   {
    "duration": 75,
    "start_time": "2024-08-08T17:42:09.051Z"
   },
   {
    "duration": 7,
    "start_time": "2024-08-08T17:42:09.128Z"
   },
   {
    "duration": 113,
    "start_time": "2024-08-08T17:42:09.138Z"
   },
   {
    "duration": 104,
    "start_time": "2024-08-08T17:42:09.324Z"
   },
   {
    "duration": 5071,
    "start_time": "2024-08-08T18:37:29.068Z"
   },
   {
    "duration": 501,
    "start_time": "2024-08-08T18:37:34.143Z"
   },
   {
    "duration": 22,
    "start_time": "2024-08-08T18:37:34.647Z"
   },
   {
    "duration": 43,
    "start_time": "2024-08-08T18:37:34.675Z"
   },
   {
    "duration": 48,
    "start_time": "2024-08-08T18:37:34.721Z"
   },
   {
    "duration": 15,
    "start_time": "2024-08-08T18:37:34.771Z"
   },
   {
    "duration": 43,
    "start_time": "2024-08-08T18:37:34.789Z"
   },
   {
    "duration": 46,
    "start_time": "2024-08-08T18:37:34.835Z"
   },
   {
    "duration": 12,
    "start_time": "2024-08-08T18:37:34.885Z"
   },
   {
    "duration": 75,
    "start_time": "2024-08-08T18:37:34.902Z"
   },
   {
    "duration": 19,
    "start_time": "2024-08-08T18:37:34.980Z"
   },
   {
    "duration": 7,
    "start_time": "2024-08-08T18:37:35.002Z"
   },
   {
    "duration": 17,
    "start_time": "2024-08-08T18:37:35.012Z"
   },
   {
    "duration": 26,
    "start_time": "2024-08-08T18:37:35.068Z"
   },
   {
    "duration": 72,
    "start_time": "2024-08-08T18:37:35.096Z"
   },
   {
    "duration": 116,
    "start_time": "2024-08-08T18:37:35.171Z"
   },
   {
    "duration": 173,
    "start_time": "2024-08-08T18:37:35.295Z"
   },
   {
    "duration": 15,
    "start_time": "2024-08-08T18:37:35.477Z"
   },
   {
    "duration": 8,
    "start_time": "2024-08-08T18:43:50.851Z"
   },
   {
    "duration": 4,
    "start_time": "2024-08-08T18:43:56.536Z"
   },
   {
    "duration": 5,
    "start_time": "2024-08-08T18:46:40.705Z"
   },
   {
    "duration": 495,
    "start_time": "2024-08-08T18:46:44.169Z"
   },
   {
    "duration": 5,
    "start_time": "2024-08-08T18:47:06.193Z"
   },
   {
    "duration": 34,
    "start_time": "2024-08-08T18:47:08.293Z"
   },
   {
    "duration": 5,
    "start_time": "2024-08-08T18:47:19.807Z"
   },
   {
    "duration": 49,
    "start_time": "2024-08-08T18:47:21.315Z"
   },
   {
    "duration": 7,
    "start_time": "2024-08-08T18:47:47.362Z"
   },
   {
    "duration": 50,
    "start_time": "2024-08-08T18:47:48.902Z"
   },
   {
    "duration": 94,
    "start_time": "2024-08-08T18:48:38.490Z"
   },
   {
    "duration": 50,
    "start_time": "2024-08-08T18:48:58.700Z"
   },
   {
    "duration": 5,
    "start_time": "2024-08-08T18:50:14.621Z"
   },
   {
    "duration": 40,
    "start_time": "2024-08-08T18:50:32.149Z"
   },
   {
    "duration": 6,
    "start_time": "2024-08-08T18:51:03.090Z"
   },
   {
    "duration": 49,
    "start_time": "2024-08-08T18:51:04.628Z"
   },
   {
    "duration": 44,
    "start_time": "2024-08-08T18:51:05.021Z"
   },
   {
    "duration": 5,
    "start_time": "2024-08-08T18:54:21.730Z"
   },
   {
    "duration": 50,
    "start_time": "2024-08-08T18:54:24.139Z"
   },
   {
    "duration": 19,
    "start_time": "2024-08-08T18:54:24.624Z"
   },
   {
    "duration": 12,
    "start_time": "2024-08-08T18:55:24.393Z"
   },
   {
    "duration": 7,
    "start_time": "2024-08-08T18:58:21.072Z"
   },
   {
    "duration": 25,
    "start_time": "2024-08-08T18:59:26.171Z"
   },
   {
    "duration": 26,
    "start_time": "2024-08-08T19:00:25.083Z"
   },
   {
    "duration": 6,
    "start_time": "2024-08-08T19:02:12.997Z"
   },
   {
    "duration": 13,
    "start_time": "2024-08-08T19:03:04.591Z"
   },
   {
    "duration": 4,
    "start_time": "2024-08-08T19:04:28.655Z"
   },
   {
    "duration": 5,
    "start_time": "2024-08-08T19:04:29.346Z"
   },
   {
    "duration": 61,
    "start_time": "2024-08-08T19:04:30.225Z"
   },
   {
    "duration": 20,
    "start_time": "2024-08-08T19:04:30.752Z"
   },
   {
    "duration": 13,
    "start_time": "2024-08-08T19:04:31.273Z"
   },
   {
    "duration": 6,
    "start_time": "2024-08-08T19:04:35.349Z"
   },
   {
    "duration": 5,
    "start_time": "2024-08-08T19:05:17.529Z"
   },
   {
    "duration": 27,
    "start_time": "2024-08-08T19:08:05.003Z"
   },
   {
    "duration": 4,
    "start_time": "2024-08-08T19:08:14.724Z"
   },
   {
    "duration": 6,
    "start_time": "2024-08-08T19:08:15.240Z"
   },
   {
    "duration": 62,
    "start_time": "2024-08-08T19:08:15.774Z"
   },
   {
    "duration": 19,
    "start_time": "2024-08-08T19:08:15.996Z"
   },
   {
    "duration": 14,
    "start_time": "2024-08-08T19:08:16.483Z"
   },
   {
    "duration": 5,
    "start_time": "2024-08-08T19:08:18.285Z"
   },
   {
    "duration": 5,
    "start_time": "2024-08-08T19:08:19.166Z"
   },
   {
    "duration": 5,
    "start_time": "2024-08-08T19:08:45.535Z"
   },
   {
    "duration": 3,
    "start_time": "2024-08-08T19:12:48.795Z"
   },
   {
    "duration": 5,
    "start_time": "2024-08-08T19:12:49.233Z"
   },
   {
    "duration": 62,
    "start_time": "2024-08-08T19:12:49.431Z"
   },
   {
    "duration": 30,
    "start_time": "2024-08-08T19:12:49.571Z"
   },
   {
    "duration": 13,
    "start_time": "2024-08-08T19:12:49.741Z"
   },
   {
    "duration": 5,
    "start_time": "2024-08-08T19:12:50.504Z"
   },
   {
    "duration": 6,
    "start_time": "2024-08-08T19:12:51.136Z"
   },
   {
    "duration": 5,
    "start_time": "2024-08-08T19:15:58.709Z"
   },
   {
    "duration": 1072,
    "start_time": "2024-08-08T19:28:38.897Z"
   },
   {
    "duration": 324,
    "start_time": "2024-08-08T22:35:54.927Z"
   },
   {
    "duration": 5101,
    "start_time": "2024-08-08T22:36:00.741Z"
   },
   {
    "duration": 488,
    "start_time": "2024-08-08T22:36:05.845Z"
   },
   {
    "duration": 16,
    "start_time": "2024-08-08T22:36:06.337Z"
   },
   {
    "duration": 42,
    "start_time": "2024-08-08T22:36:06.357Z"
   },
   {
    "duration": 46,
    "start_time": "2024-08-08T22:36:06.402Z"
   },
   {
    "duration": 12,
    "start_time": "2024-08-08T22:36:06.451Z"
   },
   {
    "duration": 68,
    "start_time": "2024-08-08T22:36:06.467Z"
   },
   {
    "duration": 19,
    "start_time": "2024-08-08T22:36:06.538Z"
   },
   {
    "duration": 13,
    "start_time": "2024-08-08T22:36:06.560Z"
   },
   {
    "duration": 78,
    "start_time": "2024-08-08T22:36:06.580Z"
   },
   {
    "duration": 18,
    "start_time": "2024-08-08T22:36:06.661Z"
   },
   {
    "duration": 5,
    "start_time": "2024-08-08T22:36:06.683Z"
   },
   {
    "duration": 48,
    "start_time": "2024-08-08T22:36:06.691Z"
   },
   {
    "duration": 26,
    "start_time": "2024-08-08T22:36:06.743Z"
   },
   {
    "duration": 6,
    "start_time": "2024-08-08T22:36:06.834Z"
   },
   {
    "duration": 109,
    "start_time": "2024-08-08T22:36:06.844Z"
   },
   {
    "duration": 92,
    "start_time": "2024-08-08T22:36:06.956Z"
   },
   {
    "duration": 4,
    "start_time": "2024-08-08T22:36:07.051Z"
   },
   {
    "duration": 86,
    "start_time": "2024-08-08T22:36:07.057Z"
   },
   {
    "duration": 130,
    "start_time": "2024-08-08T22:36:07.147Z"
   },
   {
    "duration": 32,
    "start_time": "2024-08-08T22:36:07.280Z"
   },
   {
    "duration": 22,
    "start_time": "2024-08-08T22:36:07.315Z"
   },
   {
    "duration": 6,
    "start_time": "2024-08-08T22:36:07.340Z"
   },
   {
    "duration": 6,
    "start_time": "2024-08-08T22:36:07.349Z"
   },
   {
    "duration": 130,
    "start_time": "2024-08-08T22:36:22.582Z"
   },
   {
    "duration": 17,
    "start_time": "2024-08-08T22:36:43.534Z"
   },
   {
    "duration": 574,
    "start_time": "2024-08-08T22:37:08.554Z"
   },
   {
    "duration": 23,
    "start_time": "2024-08-08T22:37:45.576Z"
   },
   {
    "duration": 22,
    "start_time": "2024-08-08T22:37:59.989Z"
   },
   {
    "duration": 5,
    "start_time": "2024-08-08T22:38:09.264Z"
   },
   {
    "duration": 5,
    "start_time": "2024-08-08T22:41:32.110Z"
   },
   {
    "duration": 6,
    "start_time": "2024-08-08T22:51:38.143Z"
   },
   {
    "duration": 379,
    "start_time": "2024-08-08T22:51:38.154Z"
   },
   {
    "duration": 13,
    "start_time": "2024-08-08T22:51:38.536Z"
   },
   {
    "duration": 45,
    "start_time": "2024-08-08T22:51:38.553Z"
   },
   {
    "duration": 45,
    "start_time": "2024-08-08T22:51:38.602Z"
   },
   {
    "duration": 13,
    "start_time": "2024-08-08T22:51:38.650Z"
   },
   {
    "duration": 70,
    "start_time": "2024-08-08T22:51:38.667Z"
   },
   {
    "duration": 17,
    "start_time": "2024-08-08T22:51:38.741Z"
   },
   {
    "duration": 12,
    "start_time": "2024-08-08T22:51:38.761Z"
   },
   {
    "duration": 73,
    "start_time": "2024-08-08T22:51:38.776Z"
   },
   {
    "duration": 18,
    "start_time": "2024-08-08T22:51:38.853Z"
   },
   {
    "duration": 5,
    "start_time": "2024-08-08T22:51:38.874Z"
   },
   {
    "duration": 49,
    "start_time": "2024-08-08T22:51:38.883Z"
   },
   {
    "duration": 20,
    "start_time": "2024-08-08T22:51:38.937Z"
   },
   {
    "duration": 7,
    "start_time": "2024-08-08T22:51:38.959Z"
   },
   {
    "duration": 433,
    "start_time": "2024-08-08T22:51:38.968Z"
   },
   {
    "duration": 35,
    "start_time": "2024-08-08T22:52:27.926Z"
   },
   {
    "duration": 35,
    "start_time": "2024-08-08T22:52:42.566Z"
   },
   {
    "duration": 7,
    "start_time": "2024-08-08T22:52:54.532Z"
   },
   {
    "duration": 373,
    "start_time": "2024-08-08T22:52:54.543Z"
   },
   {
    "duration": 27,
    "start_time": "2024-08-08T22:52:54.919Z"
   },
   {
    "duration": 54,
    "start_time": "2024-08-08T22:52:54.953Z"
   },
   {
    "duration": 31,
    "start_time": "2024-08-08T22:52:55.010Z"
   },
   {
    "duration": 14,
    "start_time": "2024-08-08T22:52:55.043Z"
   },
   {
    "duration": 72,
    "start_time": "2024-08-08T22:52:55.060Z"
   },
   {
    "duration": 18,
    "start_time": "2024-08-08T22:52:55.134Z"
   },
   {
    "duration": 12,
    "start_time": "2024-08-08T22:52:55.155Z"
   },
   {
    "duration": 72,
    "start_time": "2024-08-08T22:52:55.173Z"
   },
   {
    "duration": 18,
    "start_time": "2024-08-08T22:52:55.249Z"
   },
   {
    "duration": 7,
    "start_time": "2024-08-08T22:52:55.270Z"
   },
   {
    "duration": 16,
    "start_time": "2024-08-08T22:52:55.280Z"
   },
   {
    "duration": 51,
    "start_time": "2024-08-08T22:52:55.298Z"
   },
   {
    "duration": 6,
    "start_time": "2024-08-08T22:52:55.352Z"
   },
   {
    "duration": 174,
    "start_time": "2024-08-08T22:52:55.361Z"
   },
   {
    "duration": 102,
    "start_time": "2024-08-08T22:52:55.538Z"
   },
   {
    "duration": 8,
    "start_time": "2024-08-08T22:52:55.643Z"
   },
   {
    "duration": 0,
    "start_time": "2024-08-08T22:52:55.654Z"
   },
   {
    "duration": 0,
    "start_time": "2024-08-08T22:52:55.656Z"
   },
   {
    "duration": 0,
    "start_time": "2024-08-08T22:52:55.658Z"
   },
   {
    "duration": 0,
    "start_time": "2024-08-08T22:52:55.659Z"
   },
   {
    "duration": 0,
    "start_time": "2024-08-08T22:52:55.734Z"
   },
   {
    "duration": 0,
    "start_time": "2024-08-08T22:52:55.737Z"
   },
   {
    "duration": 3,
    "start_time": "2024-08-08T22:53:14.263Z"
   },
   {
    "duration": 175,
    "start_time": "2024-08-08T22:53:47.651Z"
   },
   {
    "duration": 232,
    "start_time": "2024-08-08T22:53:57.755Z"
   },
   {
    "duration": 114,
    "start_time": "2024-08-08T22:54:02.250Z"
   },
   {
    "duration": 35,
    "start_time": "2024-08-08T22:54:04.461Z"
   },
   {
    "duration": 5,
    "start_time": "2024-08-08T22:54:07.951Z"
   },
   {
    "duration": 5,
    "start_time": "2024-08-08T22:54:10.692Z"
   },
   {
    "duration": 5,
    "start_time": "2024-08-08T22:54:48.681Z"
   },
   {
    "duration": 7,
    "start_time": "2024-08-08T22:55:06.832Z"
   },
   {
    "duration": 31,
    "start_time": "2024-08-08T22:56:37.311Z"
   },
   {
    "duration": 47,
    "start_time": "2024-08-08T22:56:55.202Z"
   },
   {
    "duration": 44,
    "start_time": "2024-08-08T22:57:05.989Z"
   },
   {
    "duration": 86,
    "start_time": "2024-08-08T22:57:33.445Z"
   },
   {
    "duration": 4,
    "start_time": "2024-08-08T23:24:32.268Z"
   },
   {
    "duration": 4,
    "start_time": "2024-08-08T23:29:10.095Z"
   },
   {
    "duration": 22,
    "start_time": "2024-08-08T23:29:21.145Z"
   },
   {
    "duration": 38,
    "start_time": "2024-08-08T23:30:47.225Z"
   },
   {
    "duration": 4,
    "start_time": "2024-08-08T23:31:02.272Z"
   },
   {
    "duration": 93,
    "start_time": "2024-08-08T23:31:03.406Z"
   },
   {
    "duration": 23,
    "start_time": "2024-08-08T23:33:26.146Z"
   },
   {
    "duration": 4,
    "start_time": "2024-08-08T23:33:28.828Z"
   },
   {
    "duration": 133,
    "start_time": "2024-08-08T23:33:30.028Z"
   },
   {
    "duration": 23,
    "start_time": "2024-08-08T23:36:46.270Z"
   },
   {
    "duration": 7,
    "start_time": "2024-08-08T23:36:48.029Z"
   },
   {
    "duration": 132,
    "start_time": "2024-08-08T23:36:49.385Z"
   },
   {
    "duration": 129,
    "start_time": "2024-08-08T23:37:02.155Z"
   },
   {
    "duration": 139,
    "start_time": "2024-08-08T23:37:07.131Z"
   },
   {
    "duration": 5,
    "start_time": "2024-08-08T23:37:43.137Z"
   },
   {
    "duration": 25,
    "start_time": "2024-08-08T23:37:44.306Z"
   },
   {
    "duration": 5,
    "start_time": "2024-08-08T23:39:17.626Z"
   },
   {
    "duration": 390,
    "start_time": "2024-08-08T23:42:16.078Z"
   },
   {
    "duration": 5072,
    "start_time": "2024-08-09T12:30:11.126Z"
   },
   {
    "duration": 482,
    "start_time": "2024-08-09T12:30:16.202Z"
   },
   {
    "duration": 20,
    "start_time": "2024-08-09T12:30:16.687Z"
   },
   {
    "duration": 54,
    "start_time": "2024-08-09T12:30:16.712Z"
   },
   {
    "duration": 18,
    "start_time": "2024-08-09T12:30:16.769Z"
   },
   {
    "duration": 40,
    "start_time": "2024-08-09T12:30:16.790Z"
   },
   {
    "duration": 44,
    "start_time": "2024-08-09T12:30:16.834Z"
   },
   {
    "duration": 19,
    "start_time": "2024-08-09T12:30:16.881Z"
   },
   {
    "duration": 12,
    "start_time": "2024-08-09T12:30:16.931Z"
   },
   {
    "duration": 40,
    "start_time": "2024-08-09T12:30:16.950Z"
   },
   {
    "duration": 50,
    "start_time": "2024-08-09T12:30:16.993Z"
   },
   {
    "duration": 5,
    "start_time": "2024-08-09T12:30:17.046Z"
   },
   {
    "duration": 16,
    "start_time": "2024-08-09T12:30:17.055Z"
   },
   {
    "duration": 70,
    "start_time": "2024-08-09T12:30:17.074Z"
   },
   {
    "duration": 83,
    "start_time": "2024-08-09T12:30:17.147Z"
   },
   {
    "duration": 105,
    "start_time": "2024-08-09T12:30:17.234Z"
   },
   {
    "duration": 109,
    "start_time": "2024-08-09T12:30:17.345Z"
   },
   {
    "duration": 4,
    "start_time": "2024-08-09T12:30:17.531Z"
   },
   {
    "duration": 6,
    "start_time": "2024-08-09T12:30:17.538Z"
   },
   {
    "duration": 448,
    "start_time": "2024-08-09T12:30:17.547Z"
   },
   {
    "duration": 5,
    "start_time": "2024-08-09T12:30:17.998Z"
   },
   {
    "duration": 5,
    "start_time": "2024-08-09T12:30:18.006Z"
   },
   {
    "duration": 109,
    "start_time": "2024-08-09T12:30:18.032Z"
   },
   {
    "duration": 9,
    "start_time": "2024-08-09T12:30:18.144Z"
   },
   {
    "duration": 488,
    "start_time": "2024-08-09T12:37:42.490Z"
   },
   {
    "duration": 5,
    "start_time": "2024-08-09T12:38:09.841Z"
   },
   {
    "duration": 157,
    "start_time": "2024-08-09T12:41:14.036Z"
   },
   {
    "duration": 5,
    "start_time": "2024-08-09T12:41:30.692Z"
   },
   {
    "duration": 168,
    "start_time": "2024-08-09T12:41:31.745Z"
   },
   {
    "duration": 5,
    "start_time": "2024-08-09T12:43:59.955Z"
   },
   {
    "duration": 144,
    "start_time": "2024-08-09T12:44:06.251Z"
   },
   {
    "duration": 5,
    "start_time": "2024-08-09T12:44:45.564Z"
   },
   {
    "duration": 144,
    "start_time": "2024-08-09T12:44:46.543Z"
   },
   {
    "duration": 25,
    "start_time": "2024-08-09T12:48:30.048Z"
   },
   {
    "duration": 24,
    "start_time": "2024-08-09T12:50:23.796Z"
   },
   {
    "duration": 127,
    "start_time": "2024-08-09T12:50:32.443Z"
   },
   {
    "duration": 6,
    "start_time": "2024-08-09T12:50:36.467Z"
   },
   {
    "duration": 131,
    "start_time": "2024-08-09T12:50:39.180Z"
   },
   {
    "duration": 6,
    "start_time": "2024-08-09T12:54:35.067Z"
   },
   {
    "duration": 23,
    "start_time": "2024-08-09T12:54:47.171Z"
   },
   {
    "duration": 22,
    "start_time": "2024-08-09T12:54:53.848Z"
   },
   {
    "duration": 6,
    "start_time": "2024-08-09T12:54:57.911Z"
   },
   {
    "duration": 22,
    "start_time": "2024-08-09T12:55:09.104Z"
   },
   {
    "duration": 22,
    "start_time": "2024-08-09T12:57:15.544Z"
   },
   {
    "duration": 5,
    "start_time": "2024-08-09T12:57:26.498Z"
   },
   {
    "duration": 37,
    "start_time": "2024-08-09T12:58:43.243Z"
   },
   {
    "duration": 5,
    "start_time": "2024-08-09T12:58:49.051Z"
   },
   {
    "duration": 35,
    "start_time": "2024-08-09T12:58:49.493Z"
   },
   {
    "duration": 5,
    "start_time": "2024-08-09T13:00:32.562Z"
   },
   {
    "duration": 37,
    "start_time": "2024-08-09T13:00:33.460Z"
   },
   {
    "duration": 81,
    "start_time": "2024-08-09T13:01:55.964Z"
   },
   {
    "duration": 9,
    "start_time": "2024-08-09T13:02:02.065Z"
   },
   {
    "duration": 38,
    "start_time": "2024-08-09T13:02:03.064Z"
   },
   {
    "duration": 8,
    "start_time": "2024-08-09T13:02:17.051Z"
   },
   {
    "duration": 11,
    "start_time": "2024-08-09T13:02:38.300Z"
   },
   {
    "duration": 234,
    "start_time": "2024-08-09T13:10:42.656Z"
   },
   {
    "duration": 1239,
    "start_time": "2024-08-09T13:16:48.004Z"
   },
   {
    "duration": 5,
    "start_time": "2024-08-09T13:20:03.941Z"
   },
   {
    "duration": 358,
    "start_time": "2024-08-09T13:20:03.954Z"
   },
   {
    "duration": 15,
    "start_time": "2024-08-09T13:20:04.316Z"
   },
   {
    "duration": 42,
    "start_time": "2024-08-09T13:20:04.335Z"
   },
   {
    "duration": 18,
    "start_time": "2024-08-09T13:20:04.381Z"
   },
   {
    "duration": 14,
    "start_time": "2024-08-09T13:20:04.430Z"
   },
   {
    "duration": 40,
    "start_time": "2024-08-09T13:20:04.447Z"
   },
   {
    "duration": 45,
    "start_time": "2024-08-09T13:20:04.490Z"
   },
   {
    "duration": 13,
    "start_time": "2024-08-09T13:20:04.538Z"
   },
   {
    "duration": 41,
    "start_time": "2024-08-09T13:20:04.554Z"
   },
   {
    "duration": 18,
    "start_time": "2024-08-09T13:20:04.630Z"
   },
   {
    "duration": 5,
    "start_time": "2024-08-09T13:20:04.651Z"
   },
   {
    "duration": 15,
    "start_time": "2024-08-09T13:20:04.659Z"
   },
   {
    "duration": 55,
    "start_time": "2024-08-09T13:20:04.677Z"
   },
   {
    "duration": 8,
    "start_time": "2024-08-09T13:20:04.737Z"
   },
   {
    "duration": 101,
    "start_time": "2024-08-09T13:20:04.748Z"
   },
   {
    "duration": 98,
    "start_time": "2024-08-09T13:20:04.852Z"
   },
   {
    "duration": 240,
    "start_time": "2024-08-09T13:20:04.953Z"
   },
   {
    "duration": 4,
    "start_time": "2024-08-09T13:20:05.195Z"
   },
   {
    "duration": 5,
    "start_time": "2024-08-09T13:20:05.203Z"
   },
   {
    "duration": 5,
    "start_time": "2024-08-09T13:20:05.231Z"
   },
   {
    "duration": 7,
    "start_time": "2024-08-09T13:20:22.818Z"
   },
   {
    "duration": 15,
    "start_time": "2024-08-09T13:20:51.865Z"
   },
   {
    "duration": 4,
    "start_time": "2024-08-09T13:23:41.313Z"
   },
   {
    "duration": 42,
    "start_time": "2024-08-09T13:23:46.030Z"
   },
   {
    "duration": 5,
    "start_time": "2024-08-09T13:23:59.942Z"
   },
   {
    "duration": 12,
    "start_time": "2024-08-09T13:24:00.366Z"
   },
   {
    "duration": 4,
    "start_time": "2024-08-09T13:28:12.191Z"
   },
   {
    "duration": 38,
    "start_time": "2024-08-09T13:28:13.327Z"
   },
   {
    "duration": 4,
    "start_time": "2024-08-09T13:28:56.124Z"
   },
   {
    "duration": 38,
    "start_time": "2024-08-09T13:28:57.186Z"
   },
   {
    "duration": 5,
    "start_time": "2024-08-09T13:29:07.002Z"
   },
   {
    "duration": 38,
    "start_time": "2024-08-09T13:29:07.517Z"
   },
   {
    "duration": 5,
    "start_time": "2024-08-09T13:31:22.062Z"
   },
   {
    "duration": 37,
    "start_time": "2024-08-09T13:31:22.976Z"
   },
   {
    "duration": 5,
    "start_time": "2024-08-09T13:32:07.893Z"
   },
   {
    "duration": 7,
    "start_time": "2024-08-09T13:32:08.825Z"
   },
   {
    "duration": 25,
    "start_time": "2024-08-09T13:32:50.756Z"
   },
   {
    "duration": 25,
    "start_time": "2024-08-09T13:32:54.818Z"
   },
   {
    "duration": 4,
    "start_time": "2024-08-09T13:34:02.073Z"
   },
   {
    "duration": 11,
    "start_time": "2024-08-09T13:34:03.944Z"
   },
   {
    "duration": 6,
    "start_time": "2024-08-09T13:36:11.373Z"
   },
   {
    "duration": 14,
    "start_time": "2024-08-09T13:36:12.088Z"
   },
   {
    "duration": 6,
    "start_time": "2024-08-09T13:36:27.344Z"
   },
   {
    "duration": 14,
    "start_time": "2024-08-09T13:37:46.044Z"
   },
   {
    "duration": 8,
    "start_time": "2024-08-09T13:37:57.239Z"
   },
   {
    "duration": 4,
    "start_time": "2024-08-09T13:38:28.524Z"
   },
   {
    "duration": 6,
    "start_time": "2024-08-09T13:39:21.065Z"
   },
   {
    "duration": 11,
    "start_time": "2024-08-09T13:39:22.294Z"
   },
   {
    "duration": 200,
    "start_time": "2024-08-09T13:40:43.834Z"
   },
   {
    "duration": 81,
    "start_time": "2024-08-09T13:43:17.233Z"
   },
   {
    "duration": 80,
    "start_time": "2024-08-09T13:44:34.476Z"
   },
   {
    "duration": 6,
    "start_time": "2024-08-09T13:46:09.849Z"
   },
   {
    "duration": 6,
    "start_time": "2024-08-09T13:49:08.402Z"
   },
   {
    "duration": 7,
    "start_time": "2024-08-09T13:49:09.357Z"
   },
   {
    "duration": 71,
    "start_time": "2024-08-09T13:49:43.309Z"
   },
   {
    "duration": 11,
    "start_time": "2024-08-09T13:50:14.398Z"
   },
   {
    "duration": 5365,
    "start_time": "2024-08-09T14:26:19.048Z"
   },
   {
    "duration": 572,
    "start_time": "2024-08-09T14:26:24.418Z"
   },
   {
    "duration": 40,
    "start_time": "2024-08-09T14:26:24.992Z"
   },
   {
    "duration": 49,
    "start_time": "2024-08-09T14:26:25.035Z"
   },
   {
    "duration": 43,
    "start_time": "2024-08-09T14:26:25.089Z"
   },
   {
    "duration": 13,
    "start_time": "2024-08-09T14:26:25.136Z"
   },
   {
    "duration": 63,
    "start_time": "2024-08-09T14:26:25.153Z"
   },
   {
    "duration": 22,
    "start_time": "2024-08-09T14:26:25.219Z"
   },
   {
    "duration": 14,
    "start_time": "2024-08-09T14:26:25.244Z"
   },
   {
    "duration": 79,
    "start_time": "2024-08-09T14:26:25.261Z"
   },
   {
    "duration": 22,
    "start_time": "2024-08-09T14:26:25.344Z"
   },
   {
    "duration": 6,
    "start_time": "2024-08-09T14:26:25.369Z"
   },
   {
    "duration": 28,
    "start_time": "2024-08-09T14:26:25.408Z"
   },
   {
    "duration": 85,
    "start_time": "2024-08-09T14:26:25.442Z"
   },
   {
    "duration": 75,
    "start_time": "2024-08-09T14:26:25.531Z"
   },
   {
    "duration": 98,
    "start_time": "2024-08-09T14:26:25.615Z"
   },
   {
    "duration": 103,
    "start_time": "2024-08-09T14:26:25.721Z"
   },
   {
    "duration": 211,
    "start_time": "2024-08-09T14:26:25.827Z"
   },
   {
    "duration": 5,
    "start_time": "2024-08-09T14:26:26.040Z"
   },
   {
    "duration": 5,
    "start_time": "2024-08-09T14:26:26.049Z"
   },
   {
    "duration": 12,
    "start_time": "2024-08-09T14:26:26.058Z"
   },
   {
    "duration": 18,
    "start_time": "2024-08-09T14:26:26.105Z"
   },
   {
    "duration": 14,
    "start_time": "2024-08-09T14:26:26.126Z"
   },
   {
    "duration": 12,
    "start_time": "2024-08-09T14:27:20.953Z"
   },
   {
    "duration": 6,
    "start_time": "2024-08-09T14:29:22.287Z"
   },
   {
    "duration": 12,
    "start_time": "2024-08-09T14:29:25.714Z"
   },
   {
    "duration": 630,
    "start_time": "2024-08-09T14:30:36.805Z"
   },
   {
    "duration": 202,
    "start_time": "2024-08-09T14:34:52.922Z"
   },
   {
    "duration": 7,
    "start_time": "2024-08-09T14:35:03.267Z"
   },
   {
    "duration": 1499,
    "start_time": "2024-08-09T14:35:42.959Z"
   },
   {
    "duration": 7,
    "start_time": "2024-08-09T14:36:43.922Z"
   },
   {
    "duration": 6,
    "start_time": "2024-08-09T14:36:44.555Z"
   },
   {
    "duration": 58,
    "start_time": "2024-08-09T14:37:57.417Z"
   },
   {
    "duration": 7,
    "start_time": "2024-08-09T14:40:14.692Z"
   },
   {
    "duration": 1406,
    "start_time": "2024-08-09T14:40:16.614Z"
   },
   {
    "duration": 59,
    "start_time": "2024-08-09T14:42:31.684Z"
   },
   {
    "duration": 16,
    "start_time": "2024-08-09T14:42:44.727Z"
   },
   {
    "duration": 9,
    "start_time": "2024-08-09T14:44:39.478Z"
   },
   {
    "duration": 14,
    "start_time": "2024-08-09T14:44:52.447Z"
   },
   {
    "duration": 4,
    "start_time": "2024-08-09T14:51:40.270Z"
   },
   {
    "duration": 6,
    "start_time": "2024-08-09T14:52:16.448Z"
   },
   {
    "duration": 15,
    "start_time": "2024-08-09T14:52:51.034Z"
   },
   {
    "duration": 7,
    "start_time": "2024-08-09T14:54:05.512Z"
   },
   {
    "duration": 11,
    "start_time": "2024-08-09T14:58:36.725Z"
   },
   {
    "duration": 944,
    "start_time": "2024-08-09T14:58:37.882Z"
   },
   {
    "duration": 25,
    "start_time": "2024-08-09T15:00:01.140Z"
   },
   {
    "duration": 8,
    "start_time": "2024-08-09T15:00:23.068Z"
   },
   {
    "duration": 4,
    "start_time": "2024-08-09T15:00:48.879Z"
   },
   {
    "duration": 29,
    "start_time": "2024-08-09T15:00:49.470Z"
   },
   {
    "duration": 5,
    "start_time": "2024-08-09T15:01:18.754Z"
   },
   {
    "duration": 8,
    "start_time": "2024-08-09T15:01:19.250Z"
   },
   {
    "duration": 12,
    "start_time": "2024-08-09T15:01:48.314Z"
   },
   {
    "duration": 1499,
    "start_time": "2024-08-09T15:10:13.373Z"
   },
   {
    "duration": 543,
    "start_time": "2024-08-09T15:10:14.877Z"
   },
   {
    "duration": 18,
    "start_time": "2024-08-09T15:10:15.423Z"
   },
   {
    "duration": 64,
    "start_time": "2024-08-09T15:10:15.445Z"
   },
   {
    "duration": 20,
    "start_time": "2024-08-09T15:10:15.518Z"
   },
   {
    "duration": 14,
    "start_time": "2024-08-09T15:10:15.541Z"
   },
   {
    "duration": 75,
    "start_time": "2024-08-09T15:10:15.558Z"
   },
   {
    "duration": 20,
    "start_time": "2024-08-09T15:10:15.636Z"
   },
   {
    "duration": 45,
    "start_time": "2024-08-09T15:10:15.660Z"
   },
   {
    "duration": 50,
    "start_time": "2024-08-09T15:10:15.722Z"
   },
   {
    "duration": 19,
    "start_time": "2024-08-09T15:10:15.775Z"
   },
   {
    "duration": 12,
    "start_time": "2024-08-09T15:10:15.808Z"
   },
   {
    "duration": 18,
    "start_time": "2024-08-09T15:10:15.822Z"
   },
   {
    "duration": 56,
    "start_time": "2024-08-09T15:10:15.846Z"
   },
   {
    "duration": 6,
    "start_time": "2024-08-09T15:10:15.905Z"
   },
   {
    "duration": 103,
    "start_time": "2024-08-09T15:10:15.915Z"
   },
   {
    "duration": 124,
    "start_time": "2024-08-09T15:10:16.022Z"
   },
   {
    "duration": 231,
    "start_time": "2024-08-09T15:10:16.149Z"
   },
   {
    "duration": 5,
    "start_time": "2024-08-09T15:10:16.383Z"
   },
   {
    "duration": 6,
    "start_time": "2024-08-09T15:10:16.402Z"
   },
   {
    "duration": 16,
    "start_time": "2024-08-09T15:10:16.416Z"
   },
   {
    "duration": 9,
    "start_time": "2024-08-09T15:10:16.435Z"
   },
   {
    "duration": 6,
    "start_time": "2024-08-09T15:10:16.448Z"
   },
   {
    "duration": 6,
    "start_time": "2024-08-09T15:10:16.457Z"
   },
   {
    "duration": 1029,
    "start_time": "2024-08-09T15:10:16.467Z"
   },
   {
    "duration": 921,
    "start_time": "2024-08-09T15:10:21.992Z"
   },
   {
    "duration": 995,
    "start_time": "2024-08-09T15:22:46.791Z"
   },
   {
    "duration": 949,
    "start_time": "2024-08-09T15:23:14.756Z"
   },
   {
    "duration": 946,
    "start_time": "2024-08-09T15:23:37.223Z"
   },
   {
    "duration": 961,
    "start_time": "2024-08-09T15:23:46.470Z"
   },
   {
    "duration": 944,
    "start_time": "2024-08-09T15:24:17.426Z"
   },
   {
    "duration": 968,
    "start_time": "2024-08-09T15:25:30.792Z"
   },
   {
    "duration": 945,
    "start_time": "2024-08-09T15:25:33.071Z"
   },
   {
    "duration": 928,
    "start_time": "2024-08-09T15:25:34.029Z"
   },
   {
    "duration": 5082,
    "start_time": "2024-08-09T18:34:14.964Z"
   },
   {
    "duration": 473,
    "start_time": "2024-08-09T18:34:20.050Z"
   },
   {
    "duration": 17,
    "start_time": "2024-08-09T18:34:20.526Z"
   },
   {
    "duration": 42,
    "start_time": "2024-08-09T18:34:20.546Z"
   },
   {
    "duration": 42,
    "start_time": "2024-08-09T18:34:20.593Z"
   },
   {
    "duration": 12,
    "start_time": "2024-08-09T18:34:20.638Z"
   },
   {
    "duration": 40,
    "start_time": "2024-08-09T18:34:20.654Z"
   },
   {
    "duration": 50,
    "start_time": "2024-08-09T18:34:20.697Z"
   },
   {
    "duration": 12,
    "start_time": "2024-08-09T18:34:20.750Z"
   },
   {
    "duration": 68,
    "start_time": "2024-08-09T18:34:20.765Z"
   },
   {
    "duration": 18,
    "start_time": "2024-08-09T18:34:20.836Z"
   },
   {
    "duration": 5,
    "start_time": "2024-08-09T18:34:20.857Z"
   },
   {
    "duration": 16,
    "start_time": "2024-08-09T18:34:20.866Z"
   },
   {
    "duration": 65,
    "start_time": "2024-08-09T18:34:20.886Z"
   },
   {
    "duration": 82,
    "start_time": "2024-08-09T18:34:20.954Z"
   },
   {
    "duration": 116,
    "start_time": "2024-08-09T18:34:21.039Z"
   },
   {
    "duration": 175,
    "start_time": "2024-08-09T18:34:21.163Z"
   },
   {
    "duration": 237,
    "start_time": "2024-08-09T18:34:21.346Z"
   },
   {
    "duration": 7,
    "start_time": "2024-08-09T18:34:34.897Z"
   },
   {
    "duration": 363,
    "start_time": "2024-08-09T18:34:34.907Z"
   },
   {
    "duration": 12,
    "start_time": "2024-08-09T18:34:35.273Z"
   },
   {
    "duration": 56,
    "start_time": "2024-08-09T18:34:35.290Z"
   },
   {
    "duration": 17,
    "start_time": "2024-08-09T18:34:35.351Z"
   },
   {
    "duration": 12,
    "start_time": "2024-08-09T18:34:35.371Z"
   },
   {
    "duration": 76,
    "start_time": "2024-08-09T18:34:35.386Z"
   },
   {
    "duration": 19,
    "start_time": "2024-08-09T18:34:35.465Z"
   },
   {
    "duration": 13,
    "start_time": "2024-08-09T18:34:35.487Z"
   },
   {
    "duration": 41,
    "start_time": "2024-08-09T18:34:35.532Z"
   },
   {
    "duration": 19,
    "start_time": "2024-08-09T18:34:35.575Z"
   },
   {
    "duration": 39,
    "start_time": "2024-08-09T18:34:35.596Z"
   },
   {
    "duration": 22,
    "start_time": "2024-08-09T18:34:35.640Z"
   },
   {
    "duration": 24,
    "start_time": "2024-08-09T18:34:35.665Z"
   },
   {
    "duration": 7,
    "start_time": "2024-08-09T18:34:35.732Z"
   },
   {
    "duration": 103,
    "start_time": "2024-08-09T18:34:35.742Z"
   },
   {
    "duration": 100,
    "start_time": "2024-08-09T18:34:35.848Z"
   },
   {
    "duration": 240,
    "start_time": "2024-08-09T18:34:35.951Z"
   },
   {
    "duration": 6,
    "start_time": "2024-08-09T18:34:37.822Z"
   },
   {
    "duration": 400,
    "start_time": "2024-08-09T18:35:13.165Z"
   },
   {
    "duration": 6,
    "start_time": "2024-08-09T18:35:19.155Z"
   },
   {
    "duration": 12,
    "start_time": "2024-08-09T18:35:32.809Z"
   },
   {
    "duration": 5,
    "start_time": "2024-08-09T18:35:59.290Z"
   },
   {
    "duration": 5,
    "start_time": "2024-08-09T18:36:14.945Z"
   },
   {
    "duration": 239,
    "start_time": "2024-08-09T18:39:02.346Z"
   },
   {
    "duration": 248,
    "start_time": "2024-08-09T18:39:25.424Z"
   },
   {
    "duration": 258,
    "start_time": "2024-08-09T18:39:37.336Z"
   },
   {
    "duration": 326,
    "start_time": "2024-08-09T18:42:11.191Z"
   },
   {
    "duration": 252,
    "start_time": "2024-08-09T18:43:37.758Z"
   },
   {
    "duration": 320,
    "start_time": "2024-08-09T18:43:53.138Z"
   },
   {
    "duration": 28,
    "start_time": "2024-08-09T18:49:04.455Z"
   },
   {
    "duration": 4,
    "start_time": "2024-08-09T18:49:46.077Z"
   },
   {
    "duration": 160,
    "start_time": "2024-08-09T18:49:48.441Z"
   },
   {
    "duration": 258,
    "start_time": "2024-08-09T18:50:58.646Z"
   },
   {
    "duration": 1102,
    "start_time": "2024-08-09T18:51:47.697Z"
   },
   {
    "duration": 859,
    "start_time": "2024-08-09T18:56:46.015Z"
   },
   {
    "duration": 356,
    "start_time": "2024-08-09T18:58:35.184Z"
   },
   {
    "duration": 316,
    "start_time": "2024-08-09T19:00:55.721Z"
   },
   {
    "duration": 1517,
    "start_time": "2024-08-09T19:01:00.555Z"
   },
   {
    "duration": 550,
    "start_time": "2024-08-09T19:01:02.076Z"
   },
   {
    "duration": 21,
    "start_time": "2024-08-09T19:01:02.629Z"
   },
   {
    "duration": 43,
    "start_time": "2024-08-09T19:01:02.653Z"
   },
   {
    "duration": 48,
    "start_time": "2024-08-09T19:01:02.701Z"
   },
   {
    "duration": 13,
    "start_time": "2024-08-09T19:01:02.751Z"
   },
   {
    "duration": 72,
    "start_time": "2024-08-09T19:01:02.767Z"
   },
   {
    "duration": 17,
    "start_time": "2024-08-09T19:01:02.843Z"
   },
   {
    "duration": 12,
    "start_time": "2024-08-09T19:01:02.863Z"
   },
   {
    "duration": 74,
    "start_time": "2024-08-09T19:01:02.879Z"
   },
   {
    "duration": 19,
    "start_time": "2024-08-09T19:01:02.956Z"
   },
   {
    "duration": 5,
    "start_time": "2024-08-09T19:01:02.979Z"
   },
   {
    "duration": 52,
    "start_time": "2024-08-09T19:01:02.987Z"
   },
   {
    "duration": 23,
    "start_time": "2024-08-09T19:01:03.045Z"
   },
   {
    "duration": 58,
    "start_time": "2024-08-09T19:01:03.074Z"
   },
   {
    "duration": 112,
    "start_time": "2024-08-09T19:01:03.136Z"
   },
   {
    "duration": 100,
    "start_time": "2024-08-09T19:01:03.251Z"
   },
   {
    "duration": 246,
    "start_time": "2024-08-09T19:01:03.353Z"
   },
   {
    "duration": 5,
    "start_time": "2024-08-09T19:01:03.602Z"
   },
   {
    "duration": 327,
    "start_time": "2024-08-09T19:01:06.141Z"
   },
   {
    "duration": 1398,
    "start_time": "2024-08-09T19:02:57.468Z"
   },
   {
    "duration": 486,
    "start_time": "2024-08-09T19:02:58.870Z"
   },
   {
    "duration": 17,
    "start_time": "2024-08-09T19:02:59.359Z"
   },
   {
    "duration": 58,
    "start_time": "2024-08-09T19:02:59.379Z"
   },
   {
    "duration": 20,
    "start_time": "2024-08-09T19:02:59.442Z"
   },
   {
    "duration": 13,
    "start_time": "2024-08-09T19:02:59.465Z"
   },
   {
    "duration": 73,
    "start_time": "2024-08-09T19:02:59.481Z"
   },
   {
    "duration": 18,
    "start_time": "2024-08-09T19:02:59.557Z"
   },
   {
    "duration": 12,
    "start_time": "2024-08-09T19:02:59.577Z"
   },
   {
    "duration": 76,
    "start_time": "2024-08-09T19:02:59.593Z"
   },
   {
    "duration": 17,
    "start_time": "2024-08-09T19:02:59.672Z"
   },
   {
    "duration": 6,
    "start_time": "2024-08-09T19:02:59.691Z"
   },
   {
    "duration": 46,
    "start_time": "2024-08-09T19:02:59.699Z"
   },
   {
    "duration": 21,
    "start_time": "2024-08-09T19:02:59.750Z"
   },
   {
    "duration": 59,
    "start_time": "2024-08-09T19:02:59.773Z"
   },
   {
    "duration": 116,
    "start_time": "2024-08-09T19:02:59.836Z"
   },
   {
    "duration": 95,
    "start_time": "2024-08-09T19:02:59.955Z"
   },
   {
    "duration": 245,
    "start_time": "2024-08-09T19:03:00.053Z"
   },
   {
    "duration": 5,
    "start_time": "2024-08-09T19:03:00.301Z"
   },
   {
    "duration": 407,
    "start_time": "2024-08-09T19:03:00.309Z"
   },
   {
    "duration": 7,
    "start_time": "2024-08-09T19:03:05.548Z"
   },
   {
    "duration": 1456,
    "start_time": "2024-08-09T19:05:13.120Z"
   },
   {
    "duration": 475,
    "start_time": "2024-08-09T19:05:14.580Z"
   },
   {
    "duration": 18,
    "start_time": "2024-08-09T19:05:15.058Z"
   },
   {
    "duration": 63,
    "start_time": "2024-08-09T19:05:15.080Z"
   },
   {
    "duration": 18,
    "start_time": "2024-08-09T19:05:15.147Z"
   },
   {
    "duration": 13,
    "start_time": "2024-08-09T19:05:15.167Z"
   },
   {
    "duration": 72,
    "start_time": "2024-08-09T19:05:15.184Z"
   },
   {
    "duration": 17,
    "start_time": "2024-08-09T19:05:15.260Z"
   },
   {
    "duration": 12,
    "start_time": "2024-08-09T19:05:15.279Z"
   },
   {
    "duration": 73,
    "start_time": "2024-08-09T19:05:15.295Z"
   },
   {
    "duration": 17,
    "start_time": "2024-08-09T19:05:15.371Z"
   },
   {
    "duration": 5,
    "start_time": "2024-08-09T19:05:15.391Z"
   },
   {
    "duration": 46,
    "start_time": "2024-08-09T19:05:15.399Z"
   },
   {
    "duration": 23,
    "start_time": "2024-08-09T19:05:15.451Z"
   },
   {
    "duration": 54,
    "start_time": "2024-08-09T19:05:15.477Z"
   },
   {
    "duration": 115,
    "start_time": "2024-08-09T19:05:15.534Z"
   },
   {
    "duration": 179,
    "start_time": "2024-08-09T19:05:15.652Z"
   },
   {
    "duration": 172,
    "start_time": "2024-08-09T19:05:15.837Z"
   },
   {
    "duration": 4,
    "start_time": "2024-08-09T19:05:16.012Z"
   },
   {
    "duration": 378,
    "start_time": "2024-08-09T19:05:26.803Z"
   },
   {
    "duration": 407,
    "start_time": "2024-08-09T19:06:01.095Z"
   },
   {
    "duration": 6,
    "start_time": "2024-08-09T19:06:41.781Z"
   },
   {
    "duration": 13,
    "start_time": "2024-08-09T19:06:46.499Z"
   },
   {
    "duration": 1460,
    "start_time": "2024-08-09T19:24:55.327Z"
   },
   {
    "duration": 476,
    "start_time": "2024-08-09T19:24:56.790Z"
   },
   {
    "duration": 16,
    "start_time": "2024-08-09T19:24:57.269Z"
   },
   {
    "duration": 54,
    "start_time": "2024-08-09T19:24:57.289Z"
   },
   {
    "duration": 18,
    "start_time": "2024-08-09T19:24:57.347Z"
   },
   {
    "duration": 13,
    "start_time": "2024-08-09T19:24:57.368Z"
   },
   {
    "duration": 73,
    "start_time": "2024-08-09T19:24:57.386Z"
   },
   {
    "duration": 19,
    "start_time": "2024-08-09T19:24:57.462Z"
   },
   {
    "duration": 15,
    "start_time": "2024-08-09T19:24:57.484Z"
   },
   {
    "duration": 41,
    "start_time": "2024-08-09T19:24:57.536Z"
   },
   {
    "duration": 18,
    "start_time": "2024-08-09T19:24:57.580Z"
   },
   {
    "duration": 30,
    "start_time": "2024-08-09T19:24:57.601Z"
   },
   {
    "duration": 18,
    "start_time": "2024-08-09T19:24:57.634Z"
   },
   {
    "duration": 24,
    "start_time": "2024-08-09T19:24:57.655Z"
   },
   {
    "duration": 13,
    "start_time": "2024-08-09T19:24:57.731Z"
   },
   {
    "duration": 108,
    "start_time": "2024-08-09T19:24:57.747Z"
   },
   {
    "duration": 86,
    "start_time": "2024-08-09T19:24:57.858Z"
   },
   {
    "duration": 237,
    "start_time": "2024-08-09T19:24:57.946Z"
   },
   {
    "duration": 5,
    "start_time": "2024-08-09T19:24:58.185Z"
   },
   {
    "duration": 420,
    "start_time": "2024-08-09T19:24:58.193Z"
   },
   {
    "duration": 15,
    "start_time": "2024-08-09T19:24:58.616Z"
   },
   {
    "duration": 15,
    "start_time": "2024-08-09T19:24:58.633Z"
   },
   {
    "duration": 429,
    "start_time": "2024-08-09T19:25:02.619Z"
   },
   {
    "duration": 130,
    "start_time": "2024-08-09T19:25:17.236Z"
   },
   {
    "duration": 698,
    "start_time": "2024-08-09T19:25:22.532Z"
   },
   {
    "duration": 178,
    "start_time": "2024-08-09T19:26:00.365Z"
   },
   {
    "duration": 149,
    "start_time": "2024-08-09T19:26:22.882Z"
   },
   {
    "duration": 313,
    "start_time": "2024-08-09T19:35:59.714Z"
   },
   {
    "duration": 1572,
    "start_time": "2024-08-09T19:36:15.969Z"
   },
   {
    "duration": 481,
    "start_time": "2024-08-09T19:36:17.544Z"
   },
   {
    "duration": 21,
    "start_time": "2024-08-09T19:36:18.028Z"
   },
   {
    "duration": 44,
    "start_time": "2024-08-09T19:36:18.052Z"
   },
   {
    "duration": 47,
    "start_time": "2024-08-09T19:36:18.100Z"
   },
   {
    "duration": 12,
    "start_time": "2024-08-09T19:36:18.150Z"
   },
   {
    "duration": 73,
    "start_time": "2024-08-09T19:36:18.166Z"
   },
   {
    "duration": 19,
    "start_time": "2024-08-09T19:36:18.243Z"
   },
   {
    "duration": 14,
    "start_time": "2024-08-09T19:36:18.264Z"
   },
   {
    "duration": 80,
    "start_time": "2024-08-09T19:36:18.281Z"
   },
   {
    "duration": 22,
    "start_time": "2024-08-09T19:36:18.364Z"
   },
   {
    "duration": 6,
    "start_time": "2024-08-09T19:36:18.388Z"
   },
   {
    "duration": 48,
    "start_time": "2024-08-09T19:36:18.396Z"
   },
   {
    "duration": 24,
    "start_time": "2024-08-09T19:36:18.450Z"
   },
   {
    "duration": 15,
    "start_time": "2024-08-09T19:36:18.533Z"
   },
   {
    "duration": 103,
    "start_time": "2024-08-09T19:36:18.554Z"
   },
   {
    "duration": 172,
    "start_time": "2024-08-09T19:36:18.661Z"
   },
   {
    "duration": 166,
    "start_time": "2024-08-09T19:36:18.836Z"
   },
   {
    "duration": 5,
    "start_time": "2024-08-09T19:36:19.005Z"
   },
   {
    "duration": 352,
    "start_time": "2024-08-09T19:36:19.013Z"
   },
   {
    "duration": 6,
    "start_time": "2024-08-09T19:36:19.368Z"
   },
   {
    "duration": 24,
    "start_time": "2024-08-09T19:36:19.377Z"
   },
   {
    "duration": 1698,
    "start_time": "2024-08-09T19:38:15.278Z"
   },
   {
    "duration": 112,
    "start_time": "2024-08-09T19:41:49.961Z"
   },
   {
    "duration": 0,
    "start_time": "2024-08-09T19:41:50.077Z"
   },
   {
    "duration": 0,
    "start_time": "2024-08-09T19:41:50.079Z"
   },
   {
    "duration": 0,
    "start_time": "2024-08-09T19:41:50.080Z"
   },
   {
    "duration": 0,
    "start_time": "2024-08-09T19:41:50.082Z"
   },
   {
    "duration": 0,
    "start_time": "2024-08-09T19:41:50.084Z"
   },
   {
    "duration": 0,
    "start_time": "2024-08-09T19:41:50.086Z"
   },
   {
    "duration": 0,
    "start_time": "2024-08-09T19:41:50.088Z"
   },
   {
    "duration": 0,
    "start_time": "2024-08-09T19:41:50.091Z"
   },
   {
    "duration": 0,
    "start_time": "2024-08-09T19:41:50.093Z"
   },
   {
    "duration": 0,
    "start_time": "2024-08-09T19:41:50.095Z"
   },
   {
    "duration": 0,
    "start_time": "2024-08-09T19:41:50.097Z"
   },
   {
    "duration": 7,
    "start_time": "2024-08-09T19:42:00.462Z"
   },
   {
    "duration": 343,
    "start_time": "2024-08-09T19:42:00.474Z"
   },
   {
    "duration": 12,
    "start_time": "2024-08-09T19:42:00.820Z"
   },
   {
    "duration": 43,
    "start_time": "2024-08-09T19:42:00.835Z"
   },
   {
    "duration": 49,
    "start_time": "2024-08-09T19:42:00.883Z"
   },
   {
    "duration": 13,
    "start_time": "2024-08-09T19:42:00.935Z"
   },
   {
    "duration": 87,
    "start_time": "2024-08-09T19:42:00.950Z"
   },
   {
    "duration": 19,
    "start_time": "2024-08-09T19:42:01.040Z"
   },
   {
    "duration": 13,
    "start_time": "2024-08-09T19:42:01.062Z"
   },
   {
    "duration": 82,
    "start_time": "2024-08-09T19:42:01.078Z"
   },
   {
    "duration": 19,
    "start_time": "2024-08-09T19:42:01.163Z"
   },
   {
    "duration": 6,
    "start_time": "2024-08-09T19:42:01.185Z"
   },
   {
    "duration": 48,
    "start_time": "2024-08-09T19:42:01.194Z"
   },
   {
    "duration": 21,
    "start_time": "2024-08-09T19:42:01.247Z"
   },
   {
    "duration": 65,
    "start_time": "2024-08-09T19:42:01.272Z"
   },
   {
    "duration": 106,
    "start_time": "2024-08-09T19:42:01.340Z"
   },
   {
    "duration": 103,
    "start_time": "2024-08-09T19:42:01.449Z"
   },
   {
    "duration": 169,
    "start_time": "2024-08-09T19:42:01.638Z"
   },
   {
    "duration": 5,
    "start_time": "2024-08-09T19:42:01.809Z"
   },
   {
    "duration": 344,
    "start_time": "2024-08-09T19:42:01.832Z"
   },
   {
    "duration": 5,
    "start_time": "2024-08-09T19:42:02.181Z"
   },
   {
    "duration": 42,
    "start_time": "2024-08-09T19:42:02.189Z"
   },
   {
    "duration": 5,
    "start_time": "2024-08-09T19:42:20.696Z"
   },
   {
    "duration": 892,
    "start_time": "2024-08-09T19:42:37.554Z"
   },
   {
    "duration": 5,
    "start_time": "2024-08-09T19:44:39.050Z"
   },
   {
    "duration": 5,
    "start_time": "2024-08-09T19:44:54.673Z"
   },
   {
    "duration": 4,
    "start_time": "2024-08-09T19:45:01.532Z"
   },
   {
    "duration": 1521,
    "start_time": "2024-08-09T19:46:08.904Z"
   },
   {
    "duration": 429,
    "start_time": "2024-08-09T19:46:10.430Z"
   },
   {
    "duration": 19,
    "start_time": "2024-08-09T19:46:10.861Z"
   },
   {
    "duration": 68,
    "start_time": "2024-08-09T19:46:10.884Z"
   },
   {
    "duration": 19,
    "start_time": "2024-08-09T19:46:10.956Z"
   },
   {
    "duration": 12,
    "start_time": "2024-08-09T19:46:10.979Z"
   },
   {
    "duration": 73,
    "start_time": "2024-08-09T19:46:10.995Z"
   },
   {
    "duration": 18,
    "start_time": "2024-08-09T19:46:11.071Z"
   },
   {
    "duration": 48,
    "start_time": "2024-08-09T19:46:11.092Z"
   },
   {
    "duration": 41,
    "start_time": "2024-08-09T19:46:11.143Z"
   },
   {
    "duration": 46,
    "start_time": "2024-08-09T19:46:11.187Z"
   },
   {
    "duration": 6,
    "start_time": "2024-08-09T19:46:11.236Z"
   },
   {
    "duration": 16,
    "start_time": "2024-08-09T19:46:11.246Z"
   },
   {
    "duration": 68,
    "start_time": "2024-08-09T19:46:11.267Z"
   },
   {
    "duration": 7,
    "start_time": "2024-08-09T19:46:11.337Z"
   },
   {
    "duration": 188,
    "start_time": "2024-08-09T19:46:11.348Z"
   },
   {
    "duration": 196,
    "start_time": "2024-08-09T19:46:11.542Z"
   },
   {
    "duration": 198,
    "start_time": "2024-08-09T19:46:11.741Z"
   },
   {
    "duration": 5,
    "start_time": "2024-08-09T19:46:11.942Z"
   },
   {
    "duration": 355,
    "start_time": "2024-08-09T19:46:11.950Z"
   },
   {
    "duration": 5,
    "start_time": "2024-08-09T19:46:12.309Z"
   },
   {
    "duration": 410,
    "start_time": "2024-08-09T19:46:59.836Z"
   },
   {
    "duration": 5,
    "start_time": "2024-08-09T19:47:03.756Z"
   },
   {
    "duration": 25,
    "start_time": "2024-08-09T19:47:05.744Z"
   },
   {
    "duration": 26,
    "start_time": "2024-08-09T19:47:39.696Z"
   },
   {
    "duration": 1464,
    "start_time": "2024-08-09T19:50:16.482Z"
   },
   {
    "duration": 427,
    "start_time": "2024-08-09T19:50:17.950Z"
   },
   {
    "duration": 17,
    "start_time": "2024-08-09T19:50:18.381Z"
   },
   {
    "duration": 64,
    "start_time": "2024-08-09T19:50:18.403Z"
   },
   {
    "duration": 20,
    "start_time": "2024-08-09T19:50:18.469Z"
   },
   {
    "duration": 40,
    "start_time": "2024-08-09T19:50:18.492Z"
   },
   {
    "duration": 40,
    "start_time": "2024-08-09T19:50:18.536Z"
   },
   {
    "duration": 52,
    "start_time": "2024-08-09T19:50:18.580Z"
   },
   {
    "duration": 13,
    "start_time": "2024-08-09T19:50:18.636Z"
   },
   {
    "duration": 76,
    "start_time": "2024-08-09T19:50:18.656Z"
   },
   {
    "duration": 21,
    "start_time": "2024-08-09T19:50:18.735Z"
   },
   {
    "duration": 7,
    "start_time": "2024-08-09T19:50:18.759Z"
   },
   {
    "duration": 16,
    "start_time": "2024-08-09T19:50:18.768Z"
   },
   {
    "duration": 62,
    "start_time": "2024-08-09T19:50:18.787Z"
   },
   {
    "duration": 9,
    "start_time": "2024-08-09T19:50:18.853Z"
   },
   {
    "duration": 125,
    "start_time": "2024-08-09T19:50:18.931Z"
   },
   {
    "duration": 172,
    "start_time": "2024-08-09T19:50:19.064Z"
   },
   {
    "duration": 244,
    "start_time": "2024-08-09T19:50:19.238Z"
   },
   {
    "duration": 5,
    "start_time": "2024-08-09T19:50:19.485Z"
   },
   {
    "duration": 349,
    "start_time": "2024-08-09T19:50:19.493Z"
   },
   {
    "duration": 5,
    "start_time": "2024-08-09T19:50:19.846Z"
   },
   {
    "duration": 4084,
    "start_time": "2024-08-09T19:50:29.613Z"
   },
   {
    "duration": 79,
    "start_time": "2024-08-09T19:53:12.828Z"
   },
   {
    "duration": 306,
    "start_time": "2024-08-09T19:54:54.997Z"
   },
   {
    "duration": 431,
    "start_time": "2024-08-09T19:55:36.599Z"
   },
   {
    "duration": 1733,
    "start_time": "2024-08-09T19:55:50.465Z"
   },
   {
    "duration": 532,
    "start_time": "2024-08-09T19:56:19.605Z"
   },
   {
    "duration": 5400,
    "start_time": "2024-08-09T21:15:39.452Z"
   },
   {
    "duration": 498,
    "start_time": "2024-08-09T21:15:44.856Z"
   },
   {
    "duration": 17,
    "start_time": "2024-08-09T21:15:45.358Z"
   },
   {
    "duration": 45,
    "start_time": "2024-08-09T21:15:45.390Z"
   },
   {
    "duration": 18,
    "start_time": "2024-08-09T21:15:45.440Z"
   },
   {
    "duration": 37,
    "start_time": "2024-08-09T21:15:45.462Z"
   },
   {
    "duration": 43,
    "start_time": "2024-08-09T21:15:45.502Z"
   },
   {
    "duration": 52,
    "start_time": "2024-08-09T21:15:45.549Z"
   },
   {
    "duration": 12,
    "start_time": "2024-08-09T21:15:45.604Z"
   },
   {
    "duration": 73,
    "start_time": "2024-08-09T21:15:45.619Z"
   },
   {
    "duration": 19,
    "start_time": "2024-08-09T21:15:45.695Z"
   },
   {
    "duration": 5,
    "start_time": "2024-08-09T21:15:45.717Z"
   },
   {
    "duration": 17,
    "start_time": "2024-08-09T21:15:45.726Z"
   },
   {
    "duration": 63,
    "start_time": "2024-08-09T21:15:45.749Z"
   },
   {
    "duration": 83,
    "start_time": "2024-08-09T21:15:45.814Z"
   },
   {
    "duration": 114,
    "start_time": "2024-08-09T21:15:45.901Z"
   },
   {
    "duration": 92,
    "start_time": "2024-08-09T21:15:46.019Z"
   },
   {
    "duration": 83,
    "start_time": "2024-08-09T21:15:46.114Z"
   },
   {
    "duration": 516,
    "start_time": "2024-08-09T21:15:46.200Z"
   },
   {
    "duration": 104,
    "start_time": "2024-08-09T21:15:46.719Z"
   },
   {
    "duration": 5,
    "start_time": "2024-08-09T21:15:46.825Z"
   },
   {
    "duration": 5,
    "start_time": "2024-08-09T21:15:46.833Z"
   },
   {
    "duration": 10,
    "start_time": "2024-08-09T21:15:46.843Z"
   },
   {
    "duration": 6,
    "start_time": "2024-08-09T21:15:46.892Z"
   },
   {
    "duration": 7,
    "start_time": "2024-08-09T21:15:46.901Z"
   },
   {
    "duration": 6,
    "start_time": "2024-08-09T21:15:46.911Z"
   },
   {
    "duration": 970,
    "start_time": "2024-08-09T21:15:46.920Z"
   },
   {
    "duration": 940,
    "start_time": "2024-08-09T21:15:47.893Z"
   },
   {
    "duration": 918,
    "start_time": "2024-08-09T21:15:48.836Z"
   },
   {
    "duration": 1444,
    "start_time": "2024-08-09T21:15:56.160Z"
   },
   {
    "duration": 4,
    "start_time": "2024-08-09T21:18:44.330Z"
   },
   {
    "duration": 306,
    "start_time": "2024-08-10T21:26:27.761Z"
   },
   {
    "duration": 5230,
    "start_time": "2024-08-10T21:26:33.735Z"
   },
   {
    "duration": 478,
    "start_time": "2024-08-10T21:26:38.969Z"
   },
   {
    "duration": 20,
    "start_time": "2024-08-10T21:26:39.450Z"
   },
   {
    "duration": 64,
    "start_time": "2024-08-10T21:26:39.474Z"
   },
   {
    "duration": 19,
    "start_time": "2024-08-10T21:26:39.543Z"
   },
   {
    "duration": 12,
    "start_time": "2024-08-10T21:26:39.565Z"
   },
   {
    "duration": 41,
    "start_time": "2024-08-10T21:26:39.608Z"
   },
   {
    "duration": 18,
    "start_time": "2024-08-10T21:26:39.652Z"
   },
   {
    "duration": 38,
    "start_time": "2024-08-10T21:26:39.673Z"
   },
   {
    "duration": 42,
    "start_time": "2024-08-10T21:26:39.713Z"
   },
   {
    "duration": 18,
    "start_time": "2024-08-10T21:26:39.757Z"
   },
   {
    "duration": 15,
    "start_time": "2024-08-10T21:26:44.582Z"
   },
   {
    "duration": 57,
    "start_time": "2024-08-10T21:27:44.731Z"
   },
   {
    "duration": 13,
    "start_time": "2024-08-10T21:28:05.282Z"
   },
   {
    "duration": 13,
    "start_time": "2024-08-10T21:28:15.333Z"
   },
   {
    "duration": 63,
    "start_time": "2024-08-10T21:28:29.940Z"
   },
   {
    "duration": 57,
    "start_time": "2024-08-10T21:28:40.396Z"
   },
   {
    "duration": 56,
    "start_time": "2024-08-10T21:28:45.628Z"
   },
   {
    "duration": 451,
    "start_time": "2024-08-10T21:38:39.784Z"
   },
   {
    "duration": 409,
    "start_time": "2024-08-10T21:38:50.466Z"
   },
   {
    "duration": 282,
    "start_time": "2024-08-10T21:38:59.485Z"
   },
   {
    "duration": 289,
    "start_time": "2024-08-10T21:39:04.126Z"
   },
   {
    "duration": 290,
    "start_time": "2024-08-10T21:39:13.319Z"
   },
   {
    "duration": 237,
    "start_time": "2024-08-10T21:39:20.674Z"
   },
   {
    "duration": 163750,
    "start_time": "2024-08-10T21:39:38.697Z"
   },
   {
    "duration": 355,
    "start_time": "2024-08-10T21:43:04.794Z"
   },
   {
    "duration": 328,
    "start_time": "2024-08-10T21:47:50.994Z"
   },
   {
    "duration": 354,
    "start_time": "2024-08-10T21:47:54.710Z"
   },
   {
    "duration": 58,
    "start_time": "2024-08-10T21:48:03.989Z"
   },
   {
    "duration": 339,
    "start_time": "2024-08-10T21:48:15.705Z"
   },
   {
    "duration": 348,
    "start_time": "2024-08-10T21:48:28.351Z"
   },
   {
    "duration": 8,
    "start_time": "2024-08-10T21:49:50.708Z"
   },
   {
    "duration": 26,
    "start_time": "2024-08-10T21:52:47.926Z"
   },
   {
    "duration": 25,
    "start_time": "2024-08-10T21:52:51.063Z"
   },
   {
    "duration": 7,
    "start_time": "2024-08-10T21:52:57.182Z"
   },
   {
    "duration": 394,
    "start_time": "2024-08-10T21:52:57.194Z"
   },
   {
    "duration": 18,
    "start_time": "2024-08-10T21:52:57.591Z"
   },
   {
    "duration": 45,
    "start_time": "2024-08-10T21:52:57.612Z"
   },
   {
    "duration": 54,
    "start_time": "2024-08-10T21:52:57.662Z"
   },
   {
    "duration": 25,
    "start_time": "2024-08-10T21:52:57.719Z"
   },
   {
    "duration": 107,
    "start_time": "2024-08-10T21:52:57.747Z"
   },
   {
    "duration": 351,
    "start_time": "2024-08-10T21:52:57.857Z"
   },
   {
    "duration": 12,
    "start_time": "2024-08-10T21:52:58.212Z"
   },
   {
    "duration": 40,
    "start_time": "2024-08-10T21:52:58.228Z"
   },
   {
    "duration": 52,
    "start_time": "2024-08-10T21:52:58.271Z"
   },
   {
    "duration": 15,
    "start_time": "2024-08-10T21:52:58.326Z"
   },
   {
    "duration": 88,
    "start_time": "2024-08-10T21:52:58.344Z"
   },
   {
    "duration": 339,
    "start_time": "2024-08-10T21:52:58.438Z"
   },
   {
    "duration": 13,
    "start_time": "2024-08-10T21:52:58.779Z"
   },
   {
    "duration": 42,
    "start_time": "2024-08-10T21:52:58.810Z"
   },
   {
    "duration": 17,
    "start_time": "2024-08-10T21:52:58.855Z"
   },
   {
    "duration": 42,
    "start_time": "2024-08-10T21:52:58.875Z"
   },
   {
    "duration": 61,
    "start_time": "2024-08-10T21:52:58.920Z"
   },
   {
    "duration": 385,
    "start_time": "2024-08-10T21:52:58.984Z"
   },
   {
    "duration": 6,
    "start_time": "2024-08-10T21:52:59.372Z"
   },
   {
    "duration": 31,
    "start_time": "2024-08-10T21:52:59.381Z"
   },
   {
    "duration": 13,
    "start_time": "2024-08-10T21:53:05.224Z"
   },
   {
    "duration": 17,
    "start_time": "2024-08-10T21:53:18.259Z"
   },
   {
    "duration": 7,
    "start_time": "2024-08-10T21:54:38.655Z"
   },
   {
    "duration": 39,
    "start_time": "2024-08-10T21:54:40.898Z"
   },
   {
    "duration": 34,
    "start_time": "2024-08-10T21:54:44.829Z"
   },
   {
    "duration": 7,
    "start_time": "2024-08-10T21:55:53.193Z"
   },
   {
    "duration": 354,
    "start_time": "2024-08-10T21:55:53.204Z"
   },
   {
    "duration": 13,
    "start_time": "2024-08-10T21:55:53.560Z"
   },
   {
    "duration": 59,
    "start_time": "2024-08-10T21:55:53.577Z"
   },
   {
    "duration": 17,
    "start_time": "2024-08-10T21:55:53.639Z"
   },
   {
    "duration": 14,
    "start_time": "2024-08-10T21:55:53.658Z"
   },
   {
    "duration": 88,
    "start_time": "2024-08-10T21:55:53.675Z"
   },
   {
    "duration": 348,
    "start_time": "2024-08-10T21:55:53.766Z"
   },
   {
    "duration": 13,
    "start_time": "2024-08-10T21:55:54.117Z"
   },
   {
    "duration": 41,
    "start_time": "2024-08-10T21:55:54.138Z"
   },
   {
    "duration": 18,
    "start_time": "2024-08-10T21:55:54.210Z"
   },
   {
    "duration": 12,
    "start_time": "2024-08-10T21:55:54.231Z"
   },
   {
    "duration": 92,
    "start_time": "2024-08-10T21:55:54.246Z"
   },
   {
    "duration": 358,
    "start_time": "2024-08-10T21:55:54.341Z"
   },
   {
    "duration": 21,
    "start_time": "2024-08-10T21:55:54.702Z"
   },
   {
    "duration": 40,
    "start_time": "2024-08-10T21:55:54.726Z"
   },
   {
    "duration": 52,
    "start_time": "2024-08-10T21:55:54.769Z"
   },
   {
    "duration": 13,
    "start_time": "2024-08-10T21:55:54.827Z"
   },
   {
    "duration": 89,
    "start_time": "2024-08-10T21:55:54.843Z"
   },
   {
    "duration": 353,
    "start_time": "2024-08-10T21:55:54.935Z"
   },
   {
    "duration": 6,
    "start_time": "2024-08-10T21:55:55.291Z"
   },
   {
    "duration": 21,
    "start_time": "2024-08-10T21:55:55.300Z"
   },
   {
    "duration": 13,
    "start_time": "2024-08-10T21:55:55.325Z"
   },
   {
    "duration": 67,
    "start_time": "2024-08-10T21:55:55.341Z"
   },
   {
    "duration": 8,
    "start_time": "2024-08-10T21:55:55.412Z"
   },
   {
    "duration": 108,
    "start_time": "2024-08-10T21:55:55.423Z"
   },
   {
    "duration": 176,
    "start_time": "2024-08-10T21:55:55.534Z"
   }
  ],
  "kernelspec": {
   "display_name": "Python 3 (ipykernel)",
   "language": "python",
   "name": "python3"
  },
  "language_info": {
   "codemirror_mode": {
    "name": "ipython",
    "version": 3
   },
   "file_extension": ".py",
   "mimetype": "text/x-python",
   "name": "python",
   "nbconvert_exporter": "python",
   "pygments_lexer": "ipython3",
   "version": "3.12.2"
  },
  "toc": {
   "base_numbering": 1,
   "nav_menu": {},
   "number_sections": true,
   "sideBar": true,
   "skip_h1_title": true,
   "title_cell": "Table of Contents",
   "title_sidebar": "Contents",
   "toc_cell": false,
   "toc_position": {},
   "toc_section_display": true,
   "toc_window_display": false
  }
 },
 "nbformat": 4,
 "nbformat_minor": 2
}
